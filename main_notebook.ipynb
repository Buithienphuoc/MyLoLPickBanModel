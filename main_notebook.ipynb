{
 "cells": [
  {
   "cell_type": "markdown",
   "metadata": {},
   "source": [
    "# Data retrieval"
   ]
  },
  {
   "cell_type": "code",
   "execution_count": 57,
   "metadata": {},
   "outputs": [],
   "source": [
    "import pandas as pd\n",
    "import numpy as np\n",
    "import seaborn as sns\n",
    "import matplotlib.pyplot as plt\n",
    "import sys\n",
    "import gc\n",
    "import seaborn as sns"
   ]
  },
  {
   "cell_type": "code",
   "execution_count": 2,
   "metadata": {
    "pycharm": {
     "name": "#%%\n"
    }
   },
   "outputs": [
    {
     "data": {
      "text/plain": "      player_champ player_champ_name player_position  is_player_win  \\\n0               51           Caitlyn          BOTTOM           True   \n1               22              Ashe          BOTTOM           True   \n2               51           Caitlyn          BOTTOM          False   \n3               67             Vayne          BOTTOM          False   \n4               51           Caitlyn          BOTTOM           True   \n...            ...               ...             ...            ...   \n2055           114             Fiora             NaN           True   \n2056           114             Fiora             NaN           True   \n2057           114             Fiora             NaN          False   \n2058           122            Darius             NaN           True   \n2059           114             Fiora             NaN          False   \n\n      ally_champ1  ally_champ2  enemy_champ1  enemy_champ2  \n0             777            4           114           154  \n1              30           91            62            76  \n2              85          104            36            91  \n3              17           76           104           234  \n4              39           28            24            76  \n...           ...          ...           ...           ...  \n2055          876          166           887           121  \n2056           19          101           166           141  \n2057           64          238            54            53  \n2058           64           54            81           421  \n2059           28           61           166           234  \n\n[2060 rows x 8 columns]",
      "text/html": "<div>\n<style scoped>\n    .dataframe tbody tr th:only-of-type {\n        vertical-align: middle;\n    }\n\n    .dataframe tbody tr th {\n        vertical-align: top;\n    }\n\n    .dataframe thead th {\n        text-align: right;\n    }\n</style>\n<table border=\"1\" class=\"dataframe\">\n  <thead>\n    <tr style=\"text-align: right;\">\n      <th></th>\n      <th>player_champ</th>\n      <th>player_champ_name</th>\n      <th>player_position</th>\n      <th>is_player_win</th>\n      <th>ally_champ1</th>\n      <th>ally_champ2</th>\n      <th>enemy_champ1</th>\n      <th>enemy_champ2</th>\n    </tr>\n  </thead>\n  <tbody>\n    <tr>\n      <th>0</th>\n      <td>51</td>\n      <td>Caitlyn</td>\n      <td>BOTTOM</td>\n      <td>True</td>\n      <td>777</td>\n      <td>4</td>\n      <td>114</td>\n      <td>154</td>\n    </tr>\n    <tr>\n      <th>1</th>\n      <td>22</td>\n      <td>Ashe</td>\n      <td>BOTTOM</td>\n      <td>True</td>\n      <td>30</td>\n      <td>91</td>\n      <td>62</td>\n      <td>76</td>\n    </tr>\n    <tr>\n      <th>2</th>\n      <td>51</td>\n      <td>Caitlyn</td>\n      <td>BOTTOM</td>\n      <td>False</td>\n      <td>85</td>\n      <td>104</td>\n      <td>36</td>\n      <td>91</td>\n    </tr>\n    <tr>\n      <th>3</th>\n      <td>67</td>\n      <td>Vayne</td>\n      <td>BOTTOM</td>\n      <td>False</td>\n      <td>17</td>\n      <td>76</td>\n      <td>104</td>\n      <td>234</td>\n    </tr>\n    <tr>\n      <th>4</th>\n      <td>51</td>\n      <td>Caitlyn</td>\n      <td>BOTTOM</td>\n      <td>True</td>\n      <td>39</td>\n      <td>28</td>\n      <td>24</td>\n      <td>76</td>\n    </tr>\n    <tr>\n      <th>...</th>\n      <td>...</td>\n      <td>...</td>\n      <td>...</td>\n      <td>...</td>\n      <td>...</td>\n      <td>...</td>\n      <td>...</td>\n      <td>...</td>\n    </tr>\n    <tr>\n      <th>2055</th>\n      <td>114</td>\n      <td>Fiora</td>\n      <td>NaN</td>\n      <td>True</td>\n      <td>876</td>\n      <td>166</td>\n      <td>887</td>\n      <td>121</td>\n    </tr>\n    <tr>\n      <th>2056</th>\n      <td>114</td>\n      <td>Fiora</td>\n      <td>NaN</td>\n      <td>True</td>\n      <td>19</td>\n      <td>101</td>\n      <td>166</td>\n      <td>141</td>\n    </tr>\n    <tr>\n      <th>2057</th>\n      <td>114</td>\n      <td>Fiora</td>\n      <td>NaN</td>\n      <td>False</td>\n      <td>64</td>\n      <td>238</td>\n      <td>54</td>\n      <td>53</td>\n    </tr>\n    <tr>\n      <th>2058</th>\n      <td>122</td>\n      <td>Darius</td>\n      <td>NaN</td>\n      <td>True</td>\n      <td>64</td>\n      <td>54</td>\n      <td>81</td>\n      <td>421</td>\n    </tr>\n    <tr>\n      <th>2059</th>\n      <td>114</td>\n      <td>Fiora</td>\n      <td>NaN</td>\n      <td>False</td>\n      <td>28</td>\n      <td>61</td>\n      <td>166</td>\n      <td>234</td>\n    </tr>\n  </tbody>\n</table>\n<p>2060 rows × 8 columns</p>\n</div>"
     },
     "execution_count": 2,
     "metadata": {},
     "output_type": "execute_result"
    }
   ],
   "source": [
    "df = pd.read_csv(\"Data_prep/match-list.csv\", header=None, names =['player_champ','player_champ_name','player_position','is_player_win','ally_champ1','ally_champ2','enemy_champ1','enemy_champ2'])\n",
    "df"
   ]
  },
  {
   "cell_type": "code",
   "execution_count": 3,
   "metadata": {},
   "outputs": [],
   "source": [
    "synergy_counters_df = pd.read_csv(\"Data_prep/champion-bestwith-counters-bestagainst.csv\", header=None, names =['my_champion','win_rate(%)', 'best_partner','synergy(%)','worst_enemy_for','counter(%)','is_countered_by','countered(%)'])"
   ]
  },
  {
   "cell_type": "code",
   "execution_count": 4,
   "metadata": {},
   "outputs": [
    {
     "data": {
      "text/plain": "    my_champion  win_rate(%) best_partner  synergy(%) worst_enemy_for  \\\n0        Aatrox         48.9       Rengar         6.5       Gangplank   \n1          Ahri         50.5     Malphite         8.1         LeBlanc   \n2         Akali         47.3        Amumu         7.2            Gwen   \n3        Akshan         52.5        Amumu         9.6             Zoe   \n4       Alistar         49.9      Trundle         9.6          Thresh   \n..          ...          ...          ...         ...             ...   \n152         Zed         49.6         Sona         7.9            Azir   \n153       Ziggs         51.4         Sona        12.9          Lucian   \n154      Zilean         52.1       Anivia         8.8           Swain   \n155         Zoe         46.8    Jarvan IV         7.7         LeBlanc   \n156        Zyra         50.7           Vi        10.9           Janna   \n\n     counter(%) is_countered_by  countered(%)  \n0           6.8            Gwen           5.7  \n1           4.8      Cassiopeia           5.4  \n2           6.5            Shen           7.7  \n3           9.2      Tahm Kench           7.0  \n4           6.0            Bard           5.0  \n..          ...             ...           ...  \n152         7.1           Vayne           5.6  \n153         5.8            Lulu           5.8  \n154         7.4          Akshan           8.6  \n155         6.2            Sona           8.9  \n156         6.0            Sona           6.5  \n\n[157 rows x 8 columns]",
      "text/html": "<div>\n<style scoped>\n    .dataframe tbody tr th:only-of-type {\n        vertical-align: middle;\n    }\n\n    .dataframe tbody tr th {\n        vertical-align: top;\n    }\n\n    .dataframe thead th {\n        text-align: right;\n    }\n</style>\n<table border=\"1\" class=\"dataframe\">\n  <thead>\n    <tr style=\"text-align: right;\">\n      <th></th>\n      <th>my_champion</th>\n      <th>win_rate(%)</th>\n      <th>best_partner</th>\n      <th>synergy(%)</th>\n      <th>worst_enemy_for</th>\n      <th>counter(%)</th>\n      <th>is_countered_by</th>\n      <th>countered(%)</th>\n    </tr>\n  </thead>\n  <tbody>\n    <tr>\n      <th>0</th>\n      <td>Aatrox</td>\n      <td>48.9</td>\n      <td>Rengar</td>\n      <td>6.5</td>\n      <td>Gangplank</td>\n      <td>6.8</td>\n      <td>Gwen</td>\n      <td>5.7</td>\n    </tr>\n    <tr>\n      <th>1</th>\n      <td>Ahri</td>\n      <td>50.5</td>\n      <td>Malphite</td>\n      <td>8.1</td>\n      <td>LeBlanc</td>\n      <td>4.8</td>\n      <td>Cassiopeia</td>\n      <td>5.4</td>\n    </tr>\n    <tr>\n      <th>2</th>\n      <td>Akali</td>\n      <td>47.3</td>\n      <td>Amumu</td>\n      <td>7.2</td>\n      <td>Gwen</td>\n      <td>6.5</td>\n      <td>Shen</td>\n      <td>7.7</td>\n    </tr>\n    <tr>\n      <th>3</th>\n      <td>Akshan</td>\n      <td>52.5</td>\n      <td>Amumu</td>\n      <td>9.6</td>\n      <td>Zoe</td>\n      <td>9.2</td>\n      <td>Tahm Kench</td>\n      <td>7.0</td>\n    </tr>\n    <tr>\n      <th>4</th>\n      <td>Alistar</td>\n      <td>49.9</td>\n      <td>Trundle</td>\n      <td>9.6</td>\n      <td>Thresh</td>\n      <td>6.0</td>\n      <td>Bard</td>\n      <td>5.0</td>\n    </tr>\n    <tr>\n      <th>...</th>\n      <td>...</td>\n      <td>...</td>\n      <td>...</td>\n      <td>...</td>\n      <td>...</td>\n      <td>...</td>\n      <td>...</td>\n      <td>...</td>\n    </tr>\n    <tr>\n      <th>152</th>\n      <td>Zed</td>\n      <td>49.6</td>\n      <td>Sona</td>\n      <td>7.9</td>\n      <td>Azir</td>\n      <td>7.1</td>\n      <td>Vayne</td>\n      <td>5.6</td>\n    </tr>\n    <tr>\n      <th>153</th>\n      <td>Ziggs</td>\n      <td>51.4</td>\n      <td>Sona</td>\n      <td>12.9</td>\n      <td>Lucian</td>\n      <td>5.8</td>\n      <td>Lulu</td>\n      <td>5.8</td>\n    </tr>\n    <tr>\n      <th>154</th>\n      <td>Zilean</td>\n      <td>52.1</td>\n      <td>Anivia</td>\n      <td>8.8</td>\n      <td>Swain</td>\n      <td>7.4</td>\n      <td>Akshan</td>\n      <td>8.6</td>\n    </tr>\n    <tr>\n      <th>155</th>\n      <td>Zoe</td>\n      <td>46.8</td>\n      <td>Jarvan IV</td>\n      <td>7.7</td>\n      <td>LeBlanc</td>\n      <td>6.2</td>\n      <td>Sona</td>\n      <td>8.9</td>\n    </tr>\n    <tr>\n      <th>156</th>\n      <td>Zyra</td>\n      <td>50.7</td>\n      <td>Vi</td>\n      <td>10.9</td>\n      <td>Janna</td>\n      <td>6.0</td>\n      <td>Sona</td>\n      <td>6.5</td>\n    </tr>\n  </tbody>\n</table>\n<p>157 rows × 8 columns</p>\n</div>"
     },
     "execution_count": 4,
     "metadata": {},
     "output_type": "execute_result"
    }
   ],
   "source": [
    "synergy_counters_df"
   ]
  },
  {
   "cell_type": "code",
   "execution_count": 5,
   "metadata": {},
   "outputs": [
    {
     "data": {
      "text/plain": "(2060, 8)"
     },
     "execution_count": 5,
     "metadata": {},
     "output_type": "execute_result"
    }
   ],
   "source": [
    "df.shape"
   ]
  },
  {
   "cell_type": "markdown",
   "metadata": {},
   "source": [
    "# Data prep"
   ]
  },
  {
   "cell_type": "markdown",
   "metadata": {},
   "source": [
    "###### Checking typos"
   ]
  },
  {
   "cell_type": "code",
   "execution_count": 6,
   "metadata": {},
   "outputs": [
    {
     "data": {
      "text/plain": "       player_champ  ally_champ1  ally_champ2  enemy_champ1  enemy_champ2\ncount   2060.000000  2060.000000  2060.000000   2060.000000   2060.000000\nmean     144.226699   157.016019   148.313107    173.200000    139.126214\nstd      173.955755   205.081434   168.729373    229.466342    162.640032\nmin        1.000000     2.000000     1.000000      1.000000      2.000000\n25%       40.000000    39.000000    48.000000     41.000000     56.000000\n50%       86.000000    92.000000   104.000000     92.000000    104.000000\n75%      154.000000   164.000000   166.000000    164.000000    154.000000\nmax      887.000000   887.000000   887.000000    887.000000    887.000000",
      "text/html": "<div>\n<style scoped>\n    .dataframe tbody tr th:only-of-type {\n        vertical-align: middle;\n    }\n\n    .dataframe tbody tr th {\n        vertical-align: top;\n    }\n\n    .dataframe thead th {\n        text-align: right;\n    }\n</style>\n<table border=\"1\" class=\"dataframe\">\n  <thead>\n    <tr style=\"text-align: right;\">\n      <th></th>\n      <th>player_champ</th>\n      <th>ally_champ1</th>\n      <th>ally_champ2</th>\n      <th>enemy_champ1</th>\n      <th>enemy_champ2</th>\n    </tr>\n  </thead>\n  <tbody>\n    <tr>\n      <th>count</th>\n      <td>2060.000000</td>\n      <td>2060.000000</td>\n      <td>2060.000000</td>\n      <td>2060.000000</td>\n      <td>2060.000000</td>\n    </tr>\n    <tr>\n      <th>mean</th>\n      <td>144.226699</td>\n      <td>157.016019</td>\n      <td>148.313107</td>\n      <td>173.200000</td>\n      <td>139.126214</td>\n    </tr>\n    <tr>\n      <th>std</th>\n      <td>173.955755</td>\n      <td>205.081434</td>\n      <td>168.729373</td>\n      <td>229.466342</td>\n      <td>162.640032</td>\n    </tr>\n    <tr>\n      <th>min</th>\n      <td>1.000000</td>\n      <td>2.000000</td>\n      <td>1.000000</td>\n      <td>1.000000</td>\n      <td>2.000000</td>\n    </tr>\n    <tr>\n      <th>25%</th>\n      <td>40.000000</td>\n      <td>39.000000</td>\n      <td>48.000000</td>\n      <td>41.000000</td>\n      <td>56.000000</td>\n    </tr>\n    <tr>\n      <th>50%</th>\n      <td>86.000000</td>\n      <td>92.000000</td>\n      <td>104.000000</td>\n      <td>92.000000</td>\n      <td>104.000000</td>\n    </tr>\n    <tr>\n      <th>75%</th>\n      <td>154.000000</td>\n      <td>164.000000</td>\n      <td>166.000000</td>\n      <td>164.000000</td>\n      <td>154.000000</td>\n    </tr>\n    <tr>\n      <th>max</th>\n      <td>887.000000</td>\n      <td>887.000000</td>\n      <td>887.000000</td>\n      <td>887.000000</td>\n      <td>887.000000</td>\n    </tr>\n  </tbody>\n</table>\n</div>"
     },
     "execution_count": 6,
     "metadata": {},
     "output_type": "execute_result"
    }
   ],
   "source": [
    "df.describe()"
   ]
  },
  {
   "cell_type": "code",
   "execution_count": 7,
   "metadata": {},
   "outputs": [
    {
     "data": {
      "text/plain": "      player_champ player_champ_name\n0               51           Caitlyn\n1               22              Ashe\n2               51           Caitlyn\n3               67             Vayne\n4               51           Caitlyn\n...            ...               ...\n2055           114             Fiora\n2056           114             Fiora\n2057           114             Fiora\n2058           122            Darius\n2059           114             Fiora\n\n[2060 rows x 2 columns]",
      "text/html": "<div>\n<style scoped>\n    .dataframe tbody tr th:only-of-type {\n        vertical-align: middle;\n    }\n\n    .dataframe tbody tr th {\n        vertical-align: top;\n    }\n\n    .dataframe thead th {\n        text-align: right;\n    }\n</style>\n<table border=\"1\" class=\"dataframe\">\n  <thead>\n    <tr style=\"text-align: right;\">\n      <th></th>\n      <th>player_champ</th>\n      <th>player_champ_name</th>\n    </tr>\n  </thead>\n  <tbody>\n    <tr>\n      <th>0</th>\n      <td>51</td>\n      <td>Caitlyn</td>\n    </tr>\n    <tr>\n      <th>1</th>\n      <td>22</td>\n      <td>Ashe</td>\n    </tr>\n    <tr>\n      <th>2</th>\n      <td>51</td>\n      <td>Caitlyn</td>\n    </tr>\n    <tr>\n      <th>3</th>\n      <td>67</td>\n      <td>Vayne</td>\n    </tr>\n    <tr>\n      <th>4</th>\n      <td>51</td>\n      <td>Caitlyn</td>\n    </tr>\n    <tr>\n      <th>...</th>\n      <td>...</td>\n      <td>...</td>\n    </tr>\n    <tr>\n      <th>2055</th>\n      <td>114</td>\n      <td>Fiora</td>\n    </tr>\n    <tr>\n      <th>2056</th>\n      <td>114</td>\n      <td>Fiora</td>\n    </tr>\n    <tr>\n      <th>2057</th>\n      <td>114</td>\n      <td>Fiora</td>\n    </tr>\n    <tr>\n      <th>2058</th>\n      <td>122</td>\n      <td>Darius</td>\n    </tr>\n    <tr>\n      <th>2059</th>\n      <td>114</td>\n      <td>Fiora</td>\n    </tr>\n  </tbody>\n</table>\n<p>2060 rows × 2 columns</p>\n</div>"
     },
     "execution_count": 7,
     "metadata": {},
     "output_type": "execute_result"
    }
   ],
   "source": [
    "champion_name_id = df.iloc[:, :2]\n",
    "champion_name_id"
   ]
  },
  {
   "cell_type": "code",
   "execution_count": 8,
   "metadata": {},
   "outputs": [
    {
     "data": {
      "text/plain": "array(['Caitlyn', 'Ashe', 'Vayne', 'Jinx', 'Jhin', 'Lillia', 'Aphelios',\n       'Jax', 'Morgana', 'Leona', 'Akali', 'Renekton', 'LeeSin', 'Akshan',\n       'Pyke', 'Qiyana', 'Katarina', 'Kaisa', 'Cassiopeia', 'Graves',\n       'Volibear', 'Kalista', 'Lucian', 'Ezreal', 'Viktor', 'Irelia',\n       'Taliyah', 'Syndra', 'Chogath', 'Orianna', 'AurelionSol',\n       'TwistedFate', 'Yone', 'Xerath', 'Zoe', 'Anivia', 'Vex', 'Shaco',\n       'MonkeyKing', 'Braum', 'Vi', 'Kassadin', 'XinZhao', 'Talon',\n       'FiddleSticks', 'Nunu', 'JarvanIV', 'Viego', 'Gwen', 'Ekko',\n       'Shyvana', 'Skarner', 'Galio', 'Nautilus', 'Lulu', 'Olaf', 'Elise',\n       'Zed', 'MissFortune', 'RekSai', 'Warwick', 'Kindred', 'Taric',\n       'Tristana', 'Kayn', 'Diana', 'Azir', 'Draven', 'Neeko', 'Urgot',\n       'Yuumi', 'Annie', 'Ivern', 'Karthus', 'Sion', 'Teemo', 'Quinn',\n       'Kled', 'Lux', 'Darius', 'Illaoi', 'Mordekaiser', 'Blitzcrank',\n       'Rumble', 'Bard', 'Ryze', 'Hecarim', 'Heimerdinger', 'Soraka',\n       'Trundle', 'Lissandra', 'Zyra', 'Camille', 'Thresh', 'Kennen',\n       'Karma', 'Senna', 'Maokai', 'Rell', 'Singed', 'Sejuani', 'Alistar',\n       'Udyr', 'Malphite', 'KogMaw', 'Brand', 'DrMundo', 'Rengar',\n       'Yorick', 'Nasus', 'Poppy', 'Twitch', 'Corki', 'Zac', 'Sivir',\n       'Gnar', 'Fiora', 'Gragas', 'Tryndamere', 'Samira', 'Jayce', 'Sett',\n       'Rammus', 'Pantheon', 'Ornn', 'Sona', 'Riven', 'Ziggs', 'Velkoz',\n       'Vladimir', 'Nocturne', 'Khazix', 'Sylas', 'Amumu', 'Xayah',\n       'Seraphine', 'Shen', 'Evelynn', 'Fizz', 'Aatrox', 'Varus',\n       'Malzahar', 'Nami', 'Veigar', 'Swain', 'MasterYi', 'Nidalee',\n       'Zilean', 'Rakan', 'Gangplank', 'Leblanc', 'Yasuo', 'Janna',\n       'Kayle', 'TahmKench', 'Ahri', 'Garen'], dtype=object)"
     },
     "execution_count": 8,
     "metadata": {},
     "output_type": "execute_result"
    }
   ],
   "source": [
    "champion_name_id['player_champ_name'].unique()"
   ]
  },
  {
   "cell_type": "code",
   "execution_count": 9,
   "metadata": {
    "scrolled": true
   },
   "outputs": [
    {
     "data": {
      "text/plain": "     player_champ player_champ_name\n0              51           caitlyn\n1              22              ashe\n2              67             vayne\n3             222              jinx\n4             202              jhin\n..            ...               ...\n152            40             janna\n153            10             kayle\n154           223         tahmkench\n155           103              ahri\n156            86             garen\n\n[157 rows x 2 columns]",
      "text/html": "<div>\n<style scoped>\n    .dataframe tbody tr th:only-of-type {\n        vertical-align: middle;\n    }\n\n    .dataframe tbody tr th {\n        vertical-align: top;\n    }\n\n    .dataframe thead th {\n        text-align: right;\n    }\n</style>\n<table border=\"1\" class=\"dataframe\">\n  <thead>\n    <tr style=\"text-align: right;\">\n      <th></th>\n      <th>player_champ</th>\n      <th>player_champ_name</th>\n    </tr>\n  </thead>\n  <tbody>\n    <tr>\n      <th>0</th>\n      <td>51</td>\n      <td>caitlyn</td>\n    </tr>\n    <tr>\n      <th>1</th>\n      <td>22</td>\n      <td>ashe</td>\n    </tr>\n    <tr>\n      <th>2</th>\n      <td>67</td>\n      <td>vayne</td>\n    </tr>\n    <tr>\n      <th>3</th>\n      <td>222</td>\n      <td>jinx</td>\n    </tr>\n    <tr>\n      <th>4</th>\n      <td>202</td>\n      <td>jhin</td>\n    </tr>\n    <tr>\n      <th>...</th>\n      <td>...</td>\n      <td>...</td>\n    </tr>\n    <tr>\n      <th>152</th>\n      <td>40</td>\n      <td>janna</td>\n    </tr>\n    <tr>\n      <th>153</th>\n      <td>10</td>\n      <td>kayle</td>\n    </tr>\n    <tr>\n      <th>154</th>\n      <td>223</td>\n      <td>tahmkench</td>\n    </tr>\n    <tr>\n      <th>155</th>\n      <td>103</td>\n      <td>ahri</td>\n    </tr>\n    <tr>\n      <th>156</th>\n      <td>86</td>\n      <td>garen</td>\n    </tr>\n  </tbody>\n</table>\n<p>157 rows × 2 columns</p>\n</div>"
     },
     "execution_count": 9,
     "metadata": {},
     "output_type": "execute_result"
    }
   ],
   "source": [
    "champion_name_id = champion_name_id.drop_duplicates()\n",
    "champion_name_id = champion_name_id.reset_index(drop=True)\n",
    "champion_name_id['player_champ_name'] = champion_name_id['player_champ_name'].str.lower()\n",
    "champion_name_id['player_champ_name'] = champion_name_id['player_champ_name'].str.replace(\"monkeyking\",\"wukong\", regex=True)\n",
    "\n",
    "champion_name_id"
   ]
  },
  {
   "cell_type": "code",
   "execution_count": 10,
   "metadata": {},
   "outputs": [
    {
     "data": {
      "text/plain": "{'caitlyn': 51,\n 'ashe': 22,\n 'vayne': 67,\n 'jinx': 222,\n 'jhin': 202,\n 'lillia': 876,\n 'aphelios': 523,\n 'jax': 24,\n 'morgana': 25,\n 'leona': 89,\n 'akali': 84,\n 'renekton': 58,\n 'leesin': 64,\n 'akshan': 166,\n 'pyke': 555,\n 'qiyana': 246,\n 'katarina': 55,\n 'kaisa': 145,\n 'cassiopeia': 69,\n 'graves': 104,\n 'volibear': 106,\n 'kalista': 429,\n 'lucian': 236,\n 'ezreal': 81,\n 'viktor': 112,\n 'irelia': 39,\n 'taliyah': 163,\n 'syndra': 134,\n 'chogath': 31,\n 'orianna': 61,\n 'aurelionsol': 136,\n 'twistedfate': 4,\n 'yone': 777,\n 'xerath': 101,\n 'zoe': 142,\n 'anivia': 34,\n 'vex': 711,\n 'shaco': 35,\n 'wukong': 62,\n 'braum': 201,\n 'vi': 254,\n 'kassadin': 38,\n 'xinzhao': 5,\n 'talon': 91,\n 'fiddlesticks': 9,\n 'nunu': 20,\n 'jarvaniv': 59,\n 'viego': 234,\n 'gwen': 887,\n 'ekko': 245,\n 'shyvana': 102,\n 'skarner': 72,\n 'galio': 3,\n 'nautilus': 111,\n 'lulu': 117,\n 'olaf': 2,\n 'elise': 60,\n 'zed': 238,\n 'missfortune': 21,\n 'reksai': 421,\n 'warwick': 19,\n 'kindred': 203,\n 'taric': 44,\n 'tristana': 18,\n 'kayn': 141,\n 'diana': 131,\n 'azir': 268,\n 'draven': 119,\n 'neeko': 518,\n 'urgot': 6,\n 'yuumi': 350,\n 'annie': 1,\n 'ivern': 427,\n 'karthus': 30,\n 'sion': 14,\n 'teemo': 17,\n 'quinn': 133,\n 'kled': 240,\n 'lux': 99,\n 'darius': 122,\n 'illaoi': 420,\n 'mordekaiser': 82,\n 'blitzcrank': 53,\n 'rumble': 68,\n 'bard': 432,\n 'ryze': 13,\n 'hecarim': 120,\n 'heimerdinger': 74,\n 'soraka': 16,\n 'trundle': 48,\n 'lissandra': 127,\n 'zyra': 143,\n 'camille': 164,\n 'thresh': 412,\n 'kennen': 85,\n 'karma': 43,\n 'senna': 235,\n 'maokai': 57,\n 'rell': 526,\n 'singed': 27,\n 'sejuani': 113,\n 'alistar': 12,\n 'udyr': 77,\n 'malphite': 54,\n 'kogmaw': 96,\n 'brand': 63,\n 'drmundo': 36,\n 'rengar': 107,\n 'yorick': 83,\n 'nasus': 75,\n 'poppy': 78,\n 'twitch': 29,\n 'corki': 42,\n 'zac': 154,\n 'sivir': 15,\n 'gnar': 150,\n 'fiora': 114,\n 'gragas': 79,\n 'tryndamere': 23,\n 'samira': 360,\n 'jayce': 126,\n 'sett': 875,\n 'rammus': 33,\n 'pantheon': 80,\n 'ornn': 516,\n 'sona': 37,\n 'riven': 92,\n 'ziggs': 115,\n 'velkoz': 161,\n 'vladimir': 8,\n 'nocturne': 56,\n 'khazix': 121,\n 'sylas': 517,\n 'amumu': 32,\n 'xayah': 498,\n 'seraphine': 147,\n 'shen': 98,\n 'evelynn': 28,\n 'fizz': 105,\n 'aatrox': 266,\n 'varus': 110,\n 'malzahar': 90,\n 'nami': 267,\n 'veigar': 45,\n 'swain': 50,\n 'masteryi': 11,\n 'nidalee': 76,\n 'zilean': 26,\n 'rakan': 497,\n 'gangplank': 41,\n 'leblanc': 7,\n 'yasuo': 157,\n 'janna': 40,\n 'kayle': 10,\n 'tahmkench': 223,\n 'ahri': 103,\n 'garen': 86}"
     },
     "execution_count": 10,
     "metadata": {},
     "output_type": "execute_result"
    }
   ],
   "source": [
    "champion_name_id_dict = champion_name_id.set_index('player_champ_name').to_dict()\n",
    "champion_name_id_dict = champion_name_id_dict.get('player_champ')\n",
    "champion_name_id_dict"
   ]
  },
  {
   "cell_type": "code",
   "execution_count": 11,
   "metadata": {},
   "outputs": [
    {
     "data": {
      "text/plain": "{51: 'caitlyn',\n 22: 'ashe',\n 67: 'vayne',\n 222: 'jinx',\n 202: 'jhin',\n 876: 'lillia',\n 523: 'aphelios',\n 24: 'jax',\n 25: 'morgana',\n 89: 'leona',\n 84: 'akali',\n 58: 'renekton',\n 64: 'leesin',\n 166: 'akshan',\n 555: 'pyke',\n 246: 'qiyana',\n 55: 'katarina',\n 145: 'kaisa',\n 69: 'cassiopeia',\n 104: 'graves',\n 106: 'volibear',\n 429: 'kalista',\n 236: 'lucian',\n 81: 'ezreal',\n 112: 'viktor',\n 39: 'irelia',\n 163: 'taliyah',\n 134: 'syndra',\n 31: 'chogath',\n 61: 'orianna',\n 136: 'aurelionsol',\n 4: 'twistedfate',\n 777: 'yone',\n 101: 'xerath',\n 142: 'zoe',\n 34: 'anivia',\n 711: 'vex',\n 35: 'shaco',\n 62: 'wukong',\n 201: 'braum',\n 254: 'vi',\n 38: 'kassadin',\n 5: 'xinzhao',\n 91: 'talon',\n 9: 'fiddlesticks',\n 20: 'nunu',\n 59: 'jarvaniv',\n 234: 'viego',\n 887: 'gwen',\n 245: 'ekko',\n 102: 'shyvana',\n 72: 'skarner',\n 3: 'galio',\n 111: 'nautilus',\n 117: 'lulu',\n 2: 'olaf',\n 60: 'elise',\n 238: 'zed',\n 21: 'missfortune',\n 421: 'reksai',\n 19: 'warwick',\n 203: 'kindred',\n 44: 'taric',\n 18: 'tristana',\n 141: 'kayn',\n 131: 'diana',\n 268: 'azir',\n 119: 'draven',\n 518: 'neeko',\n 6: 'urgot',\n 350: 'yuumi',\n 1: 'annie',\n 427: 'ivern',\n 30: 'karthus',\n 14: 'sion',\n 17: 'teemo',\n 133: 'quinn',\n 240: 'kled',\n 99: 'lux',\n 122: 'darius',\n 420: 'illaoi',\n 82: 'mordekaiser',\n 53: 'blitzcrank',\n 68: 'rumble',\n 432: 'bard',\n 13: 'ryze',\n 120: 'hecarim',\n 74: 'heimerdinger',\n 16: 'soraka',\n 48: 'trundle',\n 127: 'lissandra',\n 143: 'zyra',\n 164: 'camille',\n 412: 'thresh',\n 85: 'kennen',\n 43: 'karma',\n 235: 'senna',\n 57: 'maokai',\n 526: 'rell',\n 27: 'singed',\n 113: 'sejuani',\n 12: 'alistar',\n 77: 'udyr',\n 54: 'malphite',\n 96: 'kogmaw',\n 63: 'brand',\n 36: 'drmundo',\n 107: 'rengar',\n 83: 'yorick',\n 75: 'nasus',\n 78: 'poppy',\n 29: 'twitch',\n 42: 'corki',\n 154: 'zac',\n 15: 'sivir',\n 150: 'gnar',\n 114: 'fiora',\n 79: 'gragas',\n 23: 'tryndamere',\n 360: 'samira',\n 126: 'jayce',\n 875: 'sett',\n 33: 'rammus',\n 80: 'pantheon',\n 516: 'ornn',\n 37: 'sona',\n 92: 'riven',\n 115: 'ziggs',\n 161: 'velkoz',\n 8: 'vladimir',\n 56: 'nocturne',\n 121: 'khazix',\n 517: 'sylas',\n 32: 'amumu',\n 498: 'xayah',\n 147: 'seraphine',\n 98: 'shen',\n 28: 'evelynn',\n 105: 'fizz',\n 266: 'aatrox',\n 110: 'varus',\n 90: 'malzahar',\n 267: 'nami',\n 45: 'veigar',\n 50: 'swain',\n 11: 'masteryi',\n 76: 'nidalee',\n 26: 'zilean',\n 497: 'rakan',\n 41: 'gangplank',\n 7: 'leblanc',\n 157: 'yasuo',\n 40: 'janna',\n 10: 'kayle',\n 223: 'tahmkench',\n 103: 'ahri',\n 86: 'garen'}"
     },
     "execution_count": 11,
     "metadata": {},
     "output_type": "execute_result"
    }
   ],
   "source": [
    "champion_id_name_dict = champion_name_id.set_index('player_champ').to_dict()\n",
    "champion_id_name_dict = champion_id_name_dict.get('player_champ_name')\n",
    "champion_id_name_dict"
   ]
  },
  {
   "cell_type": "code",
   "execution_count": 12,
   "metadata": {},
   "outputs": [
    {
     "name": "stdout",
     "output_type": "stream",
     "text": [
      "None\n",
      "<class 'NoneType'>\n"
     ]
    }
   ],
   "source": [
    "print(champion_id_name_dict.get('Akshan'))\n",
    "print( type(champion_id_name_dict.get('Akshan')))"
   ]
  },
  {
   "cell_type": "markdown",
   "metadata": {},
   "source": [
    "#### Impossible value"
   ]
  },
  {
   "cell_type": "code",
   "execution_count": 13,
   "metadata": {},
   "outputs": [
    {
     "data": {
      "text/plain": "player_champ          0\nplayer_champ_name     0\nplayer_position      99\nis_player_win         0\nally_champ1           0\nally_champ2           0\nenemy_champ1          0\nenemy_champ2          0\ndtype: int64"
     },
     "execution_count": 13,
     "metadata": {},
     "output_type": "execute_result"
    }
   ],
   "source": [
    "df.isna().sum()"
   ]
  },
  {
   "cell_type": "markdown",
   "metadata": {},
   "source": [
    "99 matches have NaN position, it means there are 99 Normal mode games <br>\n",
    "Since we are building the models for rank game, 99 normal games should be removed "
   ]
  },
  {
   "cell_type": "code",
   "execution_count": 14,
   "metadata": {},
   "outputs": [
    {
     "name": "stderr",
     "output_type": "stream",
     "text": [
      "C:\\Users\\tphuo\\AppData\\Local\\Temp/ipykernel_13852/560720356.py:2: SettingWithCopyWarning: \n",
      "A value is trying to be set on a copy of a slice from a DataFrame.\n",
      "Try using .loc[row_indexer,col_indexer] = value instead\n",
      "\n",
      "See the caveats in the documentation: https://pandas.pydata.org/pandas-docs/stable/user_guide/indexing.html#returning-a-view-versus-a-copy\n",
      "  df['player_champ_name'] = df['player_champ_name'].str.lower()\n"
     ]
    },
    {
     "data": {
      "text/plain": "      player_champ player_champ_name player_position  is_player_win  \\\n0               51           caitlyn          BOTTOM           True   \n1               22              ashe          BOTTOM           True   \n2               51           caitlyn          BOTTOM          False   \n3               67             vayne          BOTTOM          False   \n4               51           caitlyn          BOTTOM           True   \n...            ...               ...             ...            ...   \n1956            92             riven             TOP          False   \n1957            92             riven             TOP           True   \n1958            92             riven             TOP           True   \n1959            92             riven             TOP          False   \n1960           523          aphelios             TOP           True   \n\n      ally_champ1  ally_champ2  enemy_champ1  enemy_champ2  \n0             777            4           114           154  \n1              30           91            62            76  \n2              85          104            36            91  \n3              17           76           104           234  \n4              39           28            24            76  \n...           ...          ...           ...           ...  \n1956          154            8           240           141  \n1957           64           26            41            11  \n1958           28          112           875           131  \n1959          245          238           112            20  \n1960           78          107           142            56  \n\n[1961 rows x 8 columns]",
      "text/html": "<div>\n<style scoped>\n    .dataframe tbody tr th:only-of-type {\n        vertical-align: middle;\n    }\n\n    .dataframe tbody tr th {\n        vertical-align: top;\n    }\n\n    .dataframe thead th {\n        text-align: right;\n    }\n</style>\n<table border=\"1\" class=\"dataframe\">\n  <thead>\n    <tr style=\"text-align: right;\">\n      <th></th>\n      <th>player_champ</th>\n      <th>player_champ_name</th>\n      <th>player_position</th>\n      <th>is_player_win</th>\n      <th>ally_champ1</th>\n      <th>ally_champ2</th>\n      <th>enemy_champ1</th>\n      <th>enemy_champ2</th>\n    </tr>\n  </thead>\n  <tbody>\n    <tr>\n      <th>0</th>\n      <td>51</td>\n      <td>caitlyn</td>\n      <td>BOTTOM</td>\n      <td>True</td>\n      <td>777</td>\n      <td>4</td>\n      <td>114</td>\n      <td>154</td>\n    </tr>\n    <tr>\n      <th>1</th>\n      <td>22</td>\n      <td>ashe</td>\n      <td>BOTTOM</td>\n      <td>True</td>\n      <td>30</td>\n      <td>91</td>\n      <td>62</td>\n      <td>76</td>\n    </tr>\n    <tr>\n      <th>2</th>\n      <td>51</td>\n      <td>caitlyn</td>\n      <td>BOTTOM</td>\n      <td>False</td>\n      <td>85</td>\n      <td>104</td>\n      <td>36</td>\n      <td>91</td>\n    </tr>\n    <tr>\n      <th>3</th>\n      <td>67</td>\n      <td>vayne</td>\n      <td>BOTTOM</td>\n      <td>False</td>\n      <td>17</td>\n      <td>76</td>\n      <td>104</td>\n      <td>234</td>\n    </tr>\n    <tr>\n      <th>4</th>\n      <td>51</td>\n      <td>caitlyn</td>\n      <td>BOTTOM</td>\n      <td>True</td>\n      <td>39</td>\n      <td>28</td>\n      <td>24</td>\n      <td>76</td>\n    </tr>\n    <tr>\n      <th>...</th>\n      <td>...</td>\n      <td>...</td>\n      <td>...</td>\n      <td>...</td>\n      <td>...</td>\n      <td>...</td>\n      <td>...</td>\n      <td>...</td>\n    </tr>\n    <tr>\n      <th>1956</th>\n      <td>92</td>\n      <td>riven</td>\n      <td>TOP</td>\n      <td>False</td>\n      <td>154</td>\n      <td>8</td>\n      <td>240</td>\n      <td>141</td>\n    </tr>\n    <tr>\n      <th>1957</th>\n      <td>92</td>\n      <td>riven</td>\n      <td>TOP</td>\n      <td>True</td>\n      <td>64</td>\n      <td>26</td>\n      <td>41</td>\n      <td>11</td>\n    </tr>\n    <tr>\n      <th>1958</th>\n      <td>92</td>\n      <td>riven</td>\n      <td>TOP</td>\n      <td>True</td>\n      <td>28</td>\n      <td>112</td>\n      <td>875</td>\n      <td>131</td>\n    </tr>\n    <tr>\n      <th>1959</th>\n      <td>92</td>\n      <td>riven</td>\n      <td>TOP</td>\n      <td>False</td>\n      <td>245</td>\n      <td>238</td>\n      <td>112</td>\n      <td>20</td>\n    </tr>\n    <tr>\n      <th>1960</th>\n      <td>523</td>\n      <td>aphelios</td>\n      <td>TOP</td>\n      <td>True</td>\n      <td>78</td>\n      <td>107</td>\n      <td>142</td>\n      <td>56</td>\n    </tr>\n  </tbody>\n</table>\n<p>1961 rows × 8 columns</p>\n</div>"
     },
     "execution_count": 14,
     "metadata": {},
     "output_type": "execute_result"
    }
   ],
   "source": [
    "df = df.dropna()\n",
    "df['player_champ_name'] = df['player_champ_name'].str.lower()\n",
    "df"
   ]
  },
  {
   "cell_type": "code",
   "execution_count": 15,
   "metadata": {},
   "outputs": [
    {
     "name": "stderr",
     "output_type": "stream",
     "text": [
      "C:\\Users\\tphuo\\AppData\\Local\\Temp/ipykernel_13852/3079484337.py:1: SettingWithCopyWarning: \n",
      "A value is trying to be set on a copy of a slice from a DataFrame.\n",
      "Try using .loc[row_indexer,col_indexer] = value instead\n",
      "\n",
      "See the caveats in the documentation: https://pandas.pydata.org/pandas-docs/stable/user_guide/indexing.html#returning-a-view-versus-a-copy\n",
      "  df['player_champ_name'] = df['player_champ_name'].str.lower()\n"
     ]
    }
   ],
   "source": [
    "df['player_champ_name'] = df['player_champ_name'].str.lower()"
   ]
  },
  {
   "cell_type": "code",
   "execution_count": 16,
   "metadata": {},
   "outputs": [
    {
     "data": {
      "text/plain": "array(['caitlyn', 'ashe', 'vayne', 'jinx', 'jhin', 'lillia', 'aphelios',\n       'jax', 'morgana', 'leona', 'akali', 'renekton', 'leesin', 'akshan',\n       'pyke', 'qiyana', 'katarina', 'kaisa', 'cassiopeia', 'graves',\n       'volibear', 'kalista', 'lucian', 'ezreal', 'viktor', 'irelia',\n       'taliyah', 'syndra', 'chogath', 'orianna', 'aurelionsol',\n       'twistedfate', 'yone', 'xerath', 'zoe', 'anivia', 'vex', 'shaco',\n       'monkeyking', 'braum', 'vi', 'kassadin', 'xinzhao', 'talon',\n       'fiddlesticks', 'nunu', 'jarvaniv', 'viego', 'gwen', 'ekko',\n       'shyvana', 'skarner', 'galio', 'nautilus', 'lulu', 'olaf', 'elise',\n       'zed', 'missfortune', 'reksai', 'warwick', 'kindred', 'taric',\n       'tristana', 'kayn', 'diana', 'azir', 'draven', 'neeko', 'urgot',\n       'yuumi', 'annie', 'ivern', 'karthus', 'sion', 'teemo', 'quinn',\n       'kled', 'lux', 'darius', 'illaoi', 'mordekaiser', 'blitzcrank',\n       'rumble', 'bard', 'ryze', 'hecarim', 'heimerdinger', 'soraka',\n       'trundle', 'lissandra', 'zyra', 'camille', 'thresh', 'kennen',\n       'karma', 'senna', 'maokai', 'rell', 'singed', 'sejuani', 'alistar',\n       'udyr', 'malphite', 'kogmaw', 'brand', 'drmundo', 'rengar',\n       'yorick', 'nasus', 'poppy', 'twitch', 'corki', 'zac', 'sivir',\n       'gnar', 'fiora', 'gragas', 'tryndamere', 'samira', 'jayce', 'sett',\n       'rammus', 'pantheon', 'ornn', 'sona', 'riven', 'ziggs', 'velkoz',\n       'vladimir', 'nocturne', 'khazix', 'sylas', 'amumu', 'xayah',\n       'seraphine', 'shen', 'evelynn', 'fizz', 'aatrox', 'varus',\n       'malzahar', 'nami', 'veigar', 'swain', 'masteryi', 'nidalee',\n       'zilean', 'rakan', 'gangplank', 'leblanc', 'yasuo', 'janna',\n       'kayle', 'tahmkench', 'ahri'], dtype=object)"
     },
     "execution_count": 16,
     "metadata": {},
     "output_type": "execute_result"
    }
   ],
   "source": [
    "df['player_champ_name'].unique()"
   ]
  },
  {
   "cell_type": "markdown",
   "metadata": {},
   "source": [
    "###### Sanity check"
   ]
  },
  {
   "cell_type": "markdown",
   "metadata": {},
   "source": [
    "In LoL, there is not any champ name MonkeyKing. <br>\n",
    "Nunu&Willump ==> change to nunu <br>\n",
    "MonkeyKing ==> change to wukong"
   ]
  },
  {
   "cell_type": "code",
   "execution_count": 17,
   "metadata": {},
   "outputs": [
    {
     "name": "stderr",
     "output_type": "stream",
     "text": [
      "C:\\Users\\tphuo\\AppData\\Local\\Temp/ipykernel_13852/3921282371.py:1: SettingWithCopyWarning: \n",
      "A value is trying to be set on a copy of a slice from a DataFrame.\n",
      "Try using .loc[row_indexer,col_indexer] = value instead\n",
      "\n",
      "See the caveats in the documentation: https://pandas.pydata.org/pandas-docs/stable/user_guide/indexing.html#returning-a-view-versus-a-copy\n",
      "  df['player_champ_name'] = df['player_champ_name'].str.replace(\"monkeyking\",\"wukong\", regex=True)\n"
     ]
    }
   ],
   "source": [
    "df['player_champ_name'] = df['player_champ_name'].str.replace(\"monkeyking\",\"wukong\", regex=True)"
   ]
  },
  {
   "cell_type": "code",
   "execution_count": 18,
   "metadata": {},
   "outputs": [],
   "source": [
    "synergy_counters_df['best_partner'] = synergy_counters_df['best_partner'].str.replace(\".\",\"\", regex=True).replace(\"\\'\",\"\", regex=True).replace(\" \",\"\", regex=True).str.lower().replace(\"nunu&willump\",\"nunu\", regex=True)\n",
    "synergy_counters_df['my_champion'] = synergy_counters_df['my_champion'].str.replace(\".\",\"\", regex=True).replace(\"\\'\",\"\", regex=True).replace(\" \",\"\", regex=True).str.lower().replace(\"nunu&willump\",\"nunu\", regex=True)\n",
    "synergy_counters_df['worst_enemy_for'] = synergy_counters_df['worst_enemy_for'].str.replace(\".\",\"\", regex=True).replace(\"\\'\",\"\", regex=True).replace(\" \",\"\", regex=True).str.lower().replace(\"nunu&willump\",\"nunu\", regex=True)\n",
    "synergy_counters_df['is_countered_by'] = synergy_counters_df['is_countered_by'].str.replace(\".\",\"\", regex=True).replace(\"\\'\",\"\", regex=True).replace(\" \",\"\", regex=True).str.lower().replace(\"nunu&willump\",\"nunu\", regex=True)\n"
   ]
  },
  {
   "cell_type": "code",
   "execution_count": 19,
   "metadata": {},
   "outputs": [
    {
     "data": {
      "text/plain": "    my_champion  win_rate(%) best_partner  synergy(%) worst_enemy_for  \\\n0        aatrox         48.9       rengar         6.5       gangplank   \n1          ahri         50.5     malphite         8.1         leblanc   \n2         akali         47.3        amumu         7.2            gwen   \n3        akshan         52.5        amumu         9.6             zoe   \n4       alistar         49.9      trundle         9.6          thresh   \n..          ...          ...          ...         ...             ...   \n152         zed         49.6         sona         7.9            azir   \n153       ziggs         51.4         sona        12.9          lucian   \n154      zilean         52.1       anivia         8.8           swain   \n155         zoe         46.8     jarvaniv         7.7         leblanc   \n156        zyra         50.7           vi        10.9           janna   \n\n     counter(%) is_countered_by  countered(%)  \n0           6.8            gwen           5.7  \n1           4.8      cassiopeia           5.4  \n2           6.5            shen           7.7  \n3           9.2       tahmkench           7.0  \n4           6.0            bard           5.0  \n..          ...             ...           ...  \n152         7.1           vayne           5.6  \n153         5.8            lulu           5.8  \n154         7.4          akshan           8.6  \n155         6.2            sona           8.9  \n156         6.0            sona           6.5  \n\n[157 rows x 8 columns]",
      "text/html": "<div>\n<style scoped>\n    .dataframe tbody tr th:only-of-type {\n        vertical-align: middle;\n    }\n\n    .dataframe tbody tr th {\n        vertical-align: top;\n    }\n\n    .dataframe thead th {\n        text-align: right;\n    }\n</style>\n<table border=\"1\" class=\"dataframe\">\n  <thead>\n    <tr style=\"text-align: right;\">\n      <th></th>\n      <th>my_champion</th>\n      <th>win_rate(%)</th>\n      <th>best_partner</th>\n      <th>synergy(%)</th>\n      <th>worst_enemy_for</th>\n      <th>counter(%)</th>\n      <th>is_countered_by</th>\n      <th>countered(%)</th>\n    </tr>\n  </thead>\n  <tbody>\n    <tr>\n      <th>0</th>\n      <td>aatrox</td>\n      <td>48.9</td>\n      <td>rengar</td>\n      <td>6.5</td>\n      <td>gangplank</td>\n      <td>6.8</td>\n      <td>gwen</td>\n      <td>5.7</td>\n    </tr>\n    <tr>\n      <th>1</th>\n      <td>ahri</td>\n      <td>50.5</td>\n      <td>malphite</td>\n      <td>8.1</td>\n      <td>leblanc</td>\n      <td>4.8</td>\n      <td>cassiopeia</td>\n      <td>5.4</td>\n    </tr>\n    <tr>\n      <th>2</th>\n      <td>akali</td>\n      <td>47.3</td>\n      <td>amumu</td>\n      <td>7.2</td>\n      <td>gwen</td>\n      <td>6.5</td>\n      <td>shen</td>\n      <td>7.7</td>\n    </tr>\n    <tr>\n      <th>3</th>\n      <td>akshan</td>\n      <td>52.5</td>\n      <td>amumu</td>\n      <td>9.6</td>\n      <td>zoe</td>\n      <td>9.2</td>\n      <td>tahmkench</td>\n      <td>7.0</td>\n    </tr>\n    <tr>\n      <th>4</th>\n      <td>alistar</td>\n      <td>49.9</td>\n      <td>trundle</td>\n      <td>9.6</td>\n      <td>thresh</td>\n      <td>6.0</td>\n      <td>bard</td>\n      <td>5.0</td>\n    </tr>\n    <tr>\n      <th>...</th>\n      <td>...</td>\n      <td>...</td>\n      <td>...</td>\n      <td>...</td>\n      <td>...</td>\n      <td>...</td>\n      <td>...</td>\n      <td>...</td>\n    </tr>\n    <tr>\n      <th>152</th>\n      <td>zed</td>\n      <td>49.6</td>\n      <td>sona</td>\n      <td>7.9</td>\n      <td>azir</td>\n      <td>7.1</td>\n      <td>vayne</td>\n      <td>5.6</td>\n    </tr>\n    <tr>\n      <th>153</th>\n      <td>ziggs</td>\n      <td>51.4</td>\n      <td>sona</td>\n      <td>12.9</td>\n      <td>lucian</td>\n      <td>5.8</td>\n      <td>lulu</td>\n      <td>5.8</td>\n    </tr>\n    <tr>\n      <th>154</th>\n      <td>zilean</td>\n      <td>52.1</td>\n      <td>anivia</td>\n      <td>8.8</td>\n      <td>swain</td>\n      <td>7.4</td>\n      <td>akshan</td>\n      <td>8.6</td>\n    </tr>\n    <tr>\n      <th>155</th>\n      <td>zoe</td>\n      <td>46.8</td>\n      <td>jarvaniv</td>\n      <td>7.7</td>\n      <td>leblanc</td>\n      <td>6.2</td>\n      <td>sona</td>\n      <td>8.9</td>\n    </tr>\n    <tr>\n      <th>156</th>\n      <td>zyra</td>\n      <td>50.7</td>\n      <td>vi</td>\n      <td>10.9</td>\n      <td>janna</td>\n      <td>6.0</td>\n      <td>sona</td>\n      <td>6.5</td>\n    </tr>\n  </tbody>\n</table>\n<p>157 rows × 8 columns</p>\n</div>"
     },
     "execution_count": 19,
     "metadata": {},
     "output_type": "execute_result"
    }
   ],
   "source": [
    "synergy_counters_df"
   ]
  },
  {
   "cell_type": "code",
   "execution_count": 20,
   "metadata": {},
   "outputs": [
    {
     "data": {
      "text/plain": "array(['aatrox', 'ahri', 'akali', 'akshan', 'alistar', 'amumu', 'anivia',\n       'annie', 'aphelios', 'ashe', 'aurelionsol', 'azir', 'bard',\n       'blitzcrank', 'brand', 'braum', 'caitlyn', 'camille', 'cassiopeia',\n       'chogath', 'corki', 'darius', 'diana', 'drmundo', 'draven', 'ekko',\n       'elise', 'evelynn', 'ezreal', 'fiddlesticks', 'fiora', 'fizz',\n       'galio', 'gangplank', 'garen', 'gnar', 'gragas', 'graves', 'gwen',\n       'hecarim', 'heimerdinger', 'illaoi', 'irelia', 'ivern', 'janna',\n       'jarvaniv', 'jax', 'jayce', 'jhin', 'jinx', 'kaisa', 'kalista',\n       'karma', 'karthus', 'kassadin', 'katarina', 'kayle', 'kayn',\n       'kennen', 'khazix', 'kindred', 'kled', 'kogmaw', 'leblanc',\n       'leesin', 'leona', 'lillia', 'lissandra', 'lucian', 'lulu', 'lux',\n       'malphite', 'malzahar', 'maokai', 'masteryi', 'missfortune',\n       'mordekaiser', 'morgana', 'nami', 'nasus', 'nautilus', 'neeko',\n       'nidalee', 'nocturne', 'nunu', 'olaf', 'orianna', 'ornn',\n       'pantheon', 'poppy', 'pyke', 'qiyana', 'quinn', 'rakan', 'rammus',\n       'reksai', 'rell', 'renekton', 'rengar', 'riven', 'rumble', 'ryze',\n       'samira', 'sejuani', 'senna', 'seraphine', 'sett', 'shaco', 'shen',\n       'shyvana', 'singed', 'sion', 'sivir', 'skarner', 'sona', 'soraka',\n       'swain', 'sylas', 'syndra', 'tahmkench', 'taliyah', 'talon',\n       'taric', 'teemo', 'thresh', 'tristana', 'trundle', 'tryndamere',\n       'twistedfate', 'twitch', 'udyr', 'urgot', 'varus', 'vayne',\n       'veigar', 'velkoz', 'vex', 'vi', 'viego', 'viktor', 'vladimir',\n       'volibear', 'warwick', 'wukong', 'xayah', 'xerath', 'xinzhao',\n       'yasuo', 'yone', 'yorick', 'yuumi', 'zac', 'zed', 'ziggs',\n       'zilean', 'zoe', 'zyra'], dtype=object)"
     },
     "execution_count": 20,
     "metadata": {},
     "output_type": "execute_result"
    }
   ],
   "source": [
    "synergy_counters_df['my_champion'].unique()"
   ]
  },
  {
   "cell_type": "code",
   "execution_count": 21,
   "metadata": {},
   "outputs": [
    {
     "data": {
      "text/plain": "array(['gangplank', 'leblanc', 'gwen', 'zoe', 'thresh', 'talon', 'yone',\n       'tristana', 'lucian', 'yasuo', 'akali', 'braum', 'senna', 'swain',\n       'leona', 'aphelios', 'wukong', 'riven', 'orianna', 'kled',\n       'katarina', 'jayce', 'sivir', 'irelia', 'kindred', 'nidalee',\n       'kalista', 'xerath', 'renekton', 'ivern', 'aatrox', 'qiyana',\n       'ryze', 'ekko', 'pyke', 'lillia', 'sylas', 'pantheon', 'nunu',\n       'veigar', 'gragas', 'nocturne', 'elise', 'samira', 'annie',\n       'rengar', 'zed', 'varus', 'azir', 'jax', 'illaoi', 'taric',\n       'leesin', 'velkoz', 'rell', 'bard', 'karma', 'malphite', 'graves',\n       'rammus', 'draven', 'olaf', 'hecarim', 'neeko', 'mordekaiser',\n       'janna'], dtype=object)"
     },
     "execution_count": 21,
     "metadata": {},
     "output_type": "execute_result"
    }
   ],
   "source": [
    "synergy_counters_df['worst_enemy_for'].unique()"
   ]
  },
  {
   "cell_type": "code",
   "execution_count": 22,
   "metadata": {},
   "outputs": [
    {
     "data": {
      "text/plain": "     my_champion  win_rate(%) best_partner  synergy(%) worst_enemy_for  \\\n0            266         48.9       rengar         6.5       gangplank   \n1            103         50.5     malphite         8.1         leblanc   \n2             84         47.3        amumu         7.2            gwen   \n3            166         52.5        amumu         9.6             zoe   \n4             12         49.9      trundle         9.6          thresh   \n..           ...          ...          ...         ...             ...   \n152          238         49.6         sona         7.9            azir   \n153          115         51.4         sona        12.9          lucian   \n154           26         52.1       anivia         8.8           swain   \n155          142         46.8     jarvaniv         7.7         leblanc   \n156          143         50.7           vi        10.9           janna   \n\n     counter(%) is_countered_by  countered(%)  \n0           6.8            gwen           5.7  \n1           4.8      cassiopeia           5.4  \n2           6.5            shen           7.7  \n3           9.2       tahmkench           7.0  \n4           6.0            bard           5.0  \n..          ...             ...           ...  \n152         7.1           vayne           5.6  \n153         5.8            lulu           5.8  \n154         7.4          akshan           8.6  \n155         6.2            sona           8.9  \n156         6.0            sona           6.5  \n\n[157 rows x 8 columns]",
      "text/html": "<div>\n<style scoped>\n    .dataframe tbody tr th:only-of-type {\n        vertical-align: middle;\n    }\n\n    .dataframe tbody tr th {\n        vertical-align: top;\n    }\n\n    .dataframe thead th {\n        text-align: right;\n    }\n</style>\n<table border=\"1\" class=\"dataframe\">\n  <thead>\n    <tr style=\"text-align: right;\">\n      <th></th>\n      <th>my_champion</th>\n      <th>win_rate(%)</th>\n      <th>best_partner</th>\n      <th>synergy(%)</th>\n      <th>worst_enemy_for</th>\n      <th>counter(%)</th>\n      <th>is_countered_by</th>\n      <th>countered(%)</th>\n    </tr>\n  </thead>\n  <tbody>\n    <tr>\n      <th>0</th>\n      <td>266</td>\n      <td>48.9</td>\n      <td>rengar</td>\n      <td>6.5</td>\n      <td>gangplank</td>\n      <td>6.8</td>\n      <td>gwen</td>\n      <td>5.7</td>\n    </tr>\n    <tr>\n      <th>1</th>\n      <td>103</td>\n      <td>50.5</td>\n      <td>malphite</td>\n      <td>8.1</td>\n      <td>leblanc</td>\n      <td>4.8</td>\n      <td>cassiopeia</td>\n      <td>5.4</td>\n    </tr>\n    <tr>\n      <th>2</th>\n      <td>84</td>\n      <td>47.3</td>\n      <td>amumu</td>\n      <td>7.2</td>\n      <td>gwen</td>\n      <td>6.5</td>\n      <td>shen</td>\n      <td>7.7</td>\n    </tr>\n    <tr>\n      <th>3</th>\n      <td>166</td>\n      <td>52.5</td>\n      <td>amumu</td>\n      <td>9.6</td>\n      <td>zoe</td>\n      <td>9.2</td>\n      <td>tahmkench</td>\n      <td>7.0</td>\n    </tr>\n    <tr>\n      <th>4</th>\n      <td>12</td>\n      <td>49.9</td>\n      <td>trundle</td>\n      <td>9.6</td>\n      <td>thresh</td>\n      <td>6.0</td>\n      <td>bard</td>\n      <td>5.0</td>\n    </tr>\n    <tr>\n      <th>...</th>\n      <td>...</td>\n      <td>...</td>\n      <td>...</td>\n      <td>...</td>\n      <td>...</td>\n      <td>...</td>\n      <td>...</td>\n      <td>...</td>\n    </tr>\n    <tr>\n      <th>152</th>\n      <td>238</td>\n      <td>49.6</td>\n      <td>sona</td>\n      <td>7.9</td>\n      <td>azir</td>\n      <td>7.1</td>\n      <td>vayne</td>\n      <td>5.6</td>\n    </tr>\n    <tr>\n      <th>153</th>\n      <td>115</td>\n      <td>51.4</td>\n      <td>sona</td>\n      <td>12.9</td>\n      <td>lucian</td>\n      <td>5.8</td>\n      <td>lulu</td>\n      <td>5.8</td>\n    </tr>\n    <tr>\n      <th>154</th>\n      <td>26</td>\n      <td>52.1</td>\n      <td>anivia</td>\n      <td>8.8</td>\n      <td>swain</td>\n      <td>7.4</td>\n      <td>akshan</td>\n      <td>8.6</td>\n    </tr>\n    <tr>\n      <th>155</th>\n      <td>142</td>\n      <td>46.8</td>\n      <td>jarvaniv</td>\n      <td>7.7</td>\n      <td>leblanc</td>\n      <td>6.2</td>\n      <td>sona</td>\n      <td>8.9</td>\n    </tr>\n    <tr>\n      <th>156</th>\n      <td>143</td>\n      <td>50.7</td>\n      <td>vi</td>\n      <td>10.9</td>\n      <td>janna</td>\n      <td>6.0</td>\n      <td>sona</td>\n      <td>6.5</td>\n    </tr>\n  </tbody>\n</table>\n<p>157 rows × 8 columns</p>\n</div>"
     },
     "execution_count": 22,
     "metadata": {},
     "output_type": "execute_result"
    }
   ],
   "source": [
    "synergy_counters_df['my_champion'] = [champion_name_id_dict.get(champion) for champion in synergy_counters_df['my_champion']]\n",
    "synergy_counters_df"
   ]
  },
  {
   "cell_type": "code",
   "execution_count": 23,
   "metadata": {},
   "outputs": [
    {
     "data": {
      "text/plain": "array([266, 103,  84, 166,  12,  32,  34,   1, 523,  22, 136, 268, 432,\n        53,  63, 201,  51, 164,  69,  31,  42, 122, 131,  36, 119, 245,\n        60,  28,  81,   9, 114, 105,   3,  41,  86, 150,  79, 104, 887,\n       120,  74, 420,  39, 427,  40,  59,  24, 126, 202, 222, 145, 429,\n        43,  30,  38,  55,  10, 141,  85, 121, 203, 240,  96,   7,  64,\n        89, 876, 127, 236, 117,  99,  54,  90,  57,  11,  21,  82,  25,\n       267,  75, 111, 518,  76,  56,  20,   2,  61, 516,  80,  78, 555,\n       246, 133, 497,  33, 421, 526,  58, 107,  92,  68,  13, 360, 113,\n       235, 147, 875,  35,  98, 102,  27,  14,  15,  72,  37,  16,  50,\n       517, 134, 223, 163,  91,  44,  17, 412,  18,  48,  23,   4,  29,\n        77,   6, 110,  67,  45, 161, 711, 254, 234, 112,   8, 106,  19,\n        62, 498, 101,   5, 157, 777,  83, 350, 154, 238, 115,  26, 142,\n       143], dtype=int64)"
     },
     "execution_count": 23,
     "metadata": {},
     "output_type": "execute_result"
    }
   ],
   "source": [
    "synergy_counters_df['my_champion'].unique()"
   ]
  },
  {
   "cell_type": "code",
   "execution_count": 24,
   "metadata": {},
   "outputs": [
    {
     "data": {
      "text/plain": "my_champion        0\nwin_rate(%)        0\nbest_partner       0\nsynergy(%)         0\nworst_enemy_for    0\ncounter(%)         0\nis_countered_by    0\ncountered(%)       0\ndtype: int64"
     },
     "execution_count": 24,
     "metadata": {},
     "output_type": "execute_result"
    }
   ],
   "source": [
    "synergy_counters_df.isna().sum()"
   ]
  },
  {
   "cell_type": "markdown",
   "metadata": {},
   "source": [
    "# Feature engineering"
   ]
  },
  {
   "cell_type": "code",
   "execution_count": 25,
   "metadata": {},
   "outputs": [
    {
     "data": {
      "text/plain": "     my_champion  win_rate(%)  best_partner  synergy(%)  worst_enemy_for  \\\n0            266         48.9           107         6.5               41   \n1            103         50.5            54         8.1                7   \n2             84         47.3            32         7.2              887   \n3            166         52.5            32         9.6              142   \n4             12         49.9            48         9.6              412   \n..           ...          ...           ...         ...              ...   \n152          238         49.6            37         7.9              268   \n153          115         51.4            37        12.9              236   \n154           26         52.1            34         8.8               50   \n155          142         46.8            59         7.7                7   \n156          143         50.7           254        10.9               40   \n\n     counter(%)  is_countered_by  countered(%)  \n0           6.8              887           5.7  \n1           4.8               69           5.4  \n2           6.5               98           7.7  \n3           9.2              223           7.0  \n4           6.0              432           5.0  \n..          ...              ...           ...  \n152         7.1               67           5.6  \n153         5.8              117           5.8  \n154         7.4              166           8.6  \n155         6.2               37           8.9  \n156         6.0               37           6.5  \n\n[157 rows x 8 columns]",
      "text/html": "<div>\n<style scoped>\n    .dataframe tbody tr th:only-of-type {\n        vertical-align: middle;\n    }\n\n    .dataframe tbody tr th {\n        vertical-align: top;\n    }\n\n    .dataframe thead th {\n        text-align: right;\n    }\n</style>\n<table border=\"1\" class=\"dataframe\">\n  <thead>\n    <tr style=\"text-align: right;\">\n      <th></th>\n      <th>my_champion</th>\n      <th>win_rate(%)</th>\n      <th>best_partner</th>\n      <th>synergy(%)</th>\n      <th>worst_enemy_for</th>\n      <th>counter(%)</th>\n      <th>is_countered_by</th>\n      <th>countered(%)</th>\n    </tr>\n  </thead>\n  <tbody>\n    <tr>\n      <th>0</th>\n      <td>266</td>\n      <td>48.9</td>\n      <td>107</td>\n      <td>6.5</td>\n      <td>41</td>\n      <td>6.8</td>\n      <td>887</td>\n      <td>5.7</td>\n    </tr>\n    <tr>\n      <th>1</th>\n      <td>103</td>\n      <td>50.5</td>\n      <td>54</td>\n      <td>8.1</td>\n      <td>7</td>\n      <td>4.8</td>\n      <td>69</td>\n      <td>5.4</td>\n    </tr>\n    <tr>\n      <th>2</th>\n      <td>84</td>\n      <td>47.3</td>\n      <td>32</td>\n      <td>7.2</td>\n      <td>887</td>\n      <td>6.5</td>\n      <td>98</td>\n      <td>7.7</td>\n    </tr>\n    <tr>\n      <th>3</th>\n      <td>166</td>\n      <td>52.5</td>\n      <td>32</td>\n      <td>9.6</td>\n      <td>142</td>\n      <td>9.2</td>\n      <td>223</td>\n      <td>7.0</td>\n    </tr>\n    <tr>\n      <th>4</th>\n      <td>12</td>\n      <td>49.9</td>\n      <td>48</td>\n      <td>9.6</td>\n      <td>412</td>\n      <td>6.0</td>\n      <td>432</td>\n      <td>5.0</td>\n    </tr>\n    <tr>\n      <th>...</th>\n      <td>...</td>\n      <td>...</td>\n      <td>...</td>\n      <td>...</td>\n      <td>...</td>\n      <td>...</td>\n      <td>...</td>\n      <td>...</td>\n    </tr>\n    <tr>\n      <th>152</th>\n      <td>238</td>\n      <td>49.6</td>\n      <td>37</td>\n      <td>7.9</td>\n      <td>268</td>\n      <td>7.1</td>\n      <td>67</td>\n      <td>5.6</td>\n    </tr>\n    <tr>\n      <th>153</th>\n      <td>115</td>\n      <td>51.4</td>\n      <td>37</td>\n      <td>12.9</td>\n      <td>236</td>\n      <td>5.8</td>\n      <td>117</td>\n      <td>5.8</td>\n    </tr>\n    <tr>\n      <th>154</th>\n      <td>26</td>\n      <td>52.1</td>\n      <td>34</td>\n      <td>8.8</td>\n      <td>50</td>\n      <td>7.4</td>\n      <td>166</td>\n      <td>8.6</td>\n    </tr>\n    <tr>\n      <th>155</th>\n      <td>142</td>\n      <td>46.8</td>\n      <td>59</td>\n      <td>7.7</td>\n      <td>7</td>\n      <td>6.2</td>\n      <td>37</td>\n      <td>8.9</td>\n    </tr>\n    <tr>\n      <th>156</th>\n      <td>143</td>\n      <td>50.7</td>\n      <td>254</td>\n      <td>10.9</td>\n      <td>40</td>\n      <td>6.0</td>\n      <td>37</td>\n      <td>6.5</td>\n    </tr>\n  </tbody>\n</table>\n<p>157 rows × 8 columns</p>\n</div>"
     },
     "execution_count": 25,
     "metadata": {},
     "output_type": "execute_result"
    }
   ],
   "source": [
    "synergy_counters_df['best_partner'] = [champion_name_id_dict.get(champion) for champion in synergy_counters_df['best_partner']]\n",
    "synergy_counters_df['worst_enemy_for'] = [champion_name_id_dict.get(champion) for champion in synergy_counters_df['worst_enemy_for']]\n",
    "synergy_counters_df['is_countered_by'] = [champion_name_id_dict.get(champion) for champion in synergy_counters_df['is_countered_by']]\n",
    "\n",
    "synergy_counters_df"
   ]
  },
  {
   "cell_type": "code",
   "execution_count": 26,
   "metadata": {},
   "outputs": [
    {
     "data": {
      "text/plain": "my_champion        0\nwin_rate(%)        0\nbest_partner       0\nsynergy(%)         0\nworst_enemy_for    0\ncounter(%)         0\nis_countered_by    0\ncountered(%)       0\ndtype: int64"
     },
     "execution_count": 26,
     "metadata": {},
     "output_type": "execute_result"
    }
   ],
   "source": [
    "synergy_counters_df.isna().sum()"
   ]
  },
  {
   "cell_type": "code",
   "execution_count": 27,
   "metadata": {},
   "outputs": [
    {
     "data": {
      "text/plain": "      player_champ player_champ_name player_position  is_player_win  \\\n0               51           caitlyn          BOTTOM           True   \n1               22              ashe          BOTTOM           True   \n2               51           caitlyn          BOTTOM          False   \n3               67             vayne          BOTTOM          False   \n4               51           caitlyn          BOTTOM           True   \n...            ...               ...             ...            ...   \n1956            92             riven             TOP          False   \n1957            92             riven             TOP           True   \n1958            92             riven             TOP           True   \n1959            92             riven             TOP          False   \n1960           523          aphelios             TOP           True   \n\n      ally_champ1  ally_champ2  enemy_champ1  enemy_champ2  \n0             777            4           114           154  \n1              30           91            62            76  \n2              85          104            36            91  \n3              17           76           104           234  \n4              39           28            24            76  \n...           ...          ...           ...           ...  \n1956          154            8           240           141  \n1957           64           26            41            11  \n1958           28          112           875           131  \n1959          245          238           112            20  \n1960           78          107           142            56  \n\n[1961 rows x 8 columns]",
      "text/html": "<div>\n<style scoped>\n    .dataframe tbody tr th:only-of-type {\n        vertical-align: middle;\n    }\n\n    .dataframe tbody tr th {\n        vertical-align: top;\n    }\n\n    .dataframe thead th {\n        text-align: right;\n    }\n</style>\n<table border=\"1\" class=\"dataframe\">\n  <thead>\n    <tr style=\"text-align: right;\">\n      <th></th>\n      <th>player_champ</th>\n      <th>player_champ_name</th>\n      <th>player_position</th>\n      <th>is_player_win</th>\n      <th>ally_champ1</th>\n      <th>ally_champ2</th>\n      <th>enemy_champ1</th>\n      <th>enemy_champ2</th>\n    </tr>\n  </thead>\n  <tbody>\n    <tr>\n      <th>0</th>\n      <td>51</td>\n      <td>caitlyn</td>\n      <td>BOTTOM</td>\n      <td>True</td>\n      <td>777</td>\n      <td>4</td>\n      <td>114</td>\n      <td>154</td>\n    </tr>\n    <tr>\n      <th>1</th>\n      <td>22</td>\n      <td>ashe</td>\n      <td>BOTTOM</td>\n      <td>True</td>\n      <td>30</td>\n      <td>91</td>\n      <td>62</td>\n      <td>76</td>\n    </tr>\n    <tr>\n      <th>2</th>\n      <td>51</td>\n      <td>caitlyn</td>\n      <td>BOTTOM</td>\n      <td>False</td>\n      <td>85</td>\n      <td>104</td>\n      <td>36</td>\n      <td>91</td>\n    </tr>\n    <tr>\n      <th>3</th>\n      <td>67</td>\n      <td>vayne</td>\n      <td>BOTTOM</td>\n      <td>False</td>\n      <td>17</td>\n      <td>76</td>\n      <td>104</td>\n      <td>234</td>\n    </tr>\n    <tr>\n      <th>4</th>\n      <td>51</td>\n      <td>caitlyn</td>\n      <td>BOTTOM</td>\n      <td>True</td>\n      <td>39</td>\n      <td>28</td>\n      <td>24</td>\n      <td>76</td>\n    </tr>\n    <tr>\n      <th>...</th>\n      <td>...</td>\n      <td>...</td>\n      <td>...</td>\n      <td>...</td>\n      <td>...</td>\n      <td>...</td>\n      <td>...</td>\n      <td>...</td>\n    </tr>\n    <tr>\n      <th>1956</th>\n      <td>92</td>\n      <td>riven</td>\n      <td>TOP</td>\n      <td>False</td>\n      <td>154</td>\n      <td>8</td>\n      <td>240</td>\n      <td>141</td>\n    </tr>\n    <tr>\n      <th>1957</th>\n      <td>92</td>\n      <td>riven</td>\n      <td>TOP</td>\n      <td>True</td>\n      <td>64</td>\n      <td>26</td>\n      <td>41</td>\n      <td>11</td>\n    </tr>\n    <tr>\n      <th>1958</th>\n      <td>92</td>\n      <td>riven</td>\n      <td>TOP</td>\n      <td>True</td>\n      <td>28</td>\n      <td>112</td>\n      <td>875</td>\n      <td>131</td>\n    </tr>\n    <tr>\n      <th>1959</th>\n      <td>92</td>\n      <td>riven</td>\n      <td>TOP</td>\n      <td>False</td>\n      <td>245</td>\n      <td>238</td>\n      <td>112</td>\n      <td>20</td>\n    </tr>\n    <tr>\n      <th>1960</th>\n      <td>523</td>\n      <td>aphelios</td>\n      <td>TOP</td>\n      <td>True</td>\n      <td>78</td>\n      <td>107</td>\n      <td>142</td>\n      <td>56</td>\n    </tr>\n  </tbody>\n</table>\n<p>1961 rows × 8 columns</p>\n</div>"
     },
     "execution_count": 27,
     "metadata": {},
     "output_type": "execute_result"
    }
   ],
   "source": [
    "df"
   ]
  },
  {
   "cell_type": "markdown",
   "metadata": {},
   "source": [
    "Add columns: win_rate(%), best_partner, synergy(%), is_countered_by, countered(%) into df"
   ]
  },
  {
   "cell_type": "code",
   "execution_count": 28,
   "metadata": {},
   "outputs": [
    {
     "data": {
      "text/plain": "{'win_rate(%)': {266: 48.9,\n  103: 50.5,\n  84: 47.3,\n  166: 52.5,\n  12: 49.9,\n  32: 52.3,\n  34: 52.8,\n  1: 50.6,\n  523: 46.4,\n  22: 51.7,\n  136: 49.0,\n  268: 44.9,\n  432: 49.3,\n  53: 51.0,\n  63: 50.7,\n  201: 50.0,\n  51: 48.7,\n  164: 49.7,\n  69: 51.9,\n  31: 50.4,\n  42: 49.7,\n  122: 50.0,\n  131: 49.4,\n  36: 52.5,\n  119: 50.1,\n  245: 49.8,\n  60: 50.0,\n  28: 48.8,\n  81: 48.5,\n  9: 51.0,\n  114: 49.8,\n  105: 50.0,\n  3: 49.1,\n  41: 45.5,\n  86: 52.3,\n  150: 49.2,\n  79: 49.0,\n  104: 50.8,\n  887: 48.4,\n  120: 51.2,\n  74: 51.3,\n  420: 50.2,\n  39: 49.3,\n  427: 48.6,\n  40: 51.3,\n  59: 50.0,\n  24: 50.5,\n  126: 48.5,\n  202: 51.0,\n  222: 50.7,\n  145: 48.9,\n  429: 47.2,\n  43: 48.9,\n  30: 50.1,\n  38: 51.1,\n  55: 48.6,\n  10: 52.4,\n  141: 49.3,\n  85: 47.9,\n  121: 51.0,\n  203: 49.3,\n  240: 49.6,\n  96: 52.7,\n  7: 47.6,\n  64: 47.9,\n  89: 50.0,\n  876: 49.0,\n  127: 50.2,\n  236: 48.1,\n  117: 52.1,\n  99: 50.7,\n  54: 50.5,\n  90: 51.9,\n  57: 50.1,\n  11: 50.4,\n  21: 48.4,\n  82: 49.4,\n  25: 49.6,\n  267: 52.3,\n  75: 51.7,\n  111: 50.0,\n  518: 47.4,\n  76: 47.0,\n  56: 48.2,\n  20: 52.0,\n  2: 47.3,\n  61: 48.7,\n  516: 51.3,\n  80: 49.1,\n  78: 51.2,\n  555: 49.0,\n  246: 48.6,\n  133: 51.9,\n  497: 49.9,\n  33: 52.0,\n  421: 51.6,\n  526: 50.3,\n  58: 47.8,\n  107: 47.3,\n  92: 49.3,\n  68: 47.6,\n  13: 44.8,\n  360: 49.1,\n  113: 51.5,\n  235: 48.7,\n  147: 49.7,\n  875: 50.0,\n  35: 50.1,\n  98: 52.6,\n  102: 50.3,\n  27: 50.2,\n  14: 49.6,\n  15: 50.7,\n  72: 51.2,\n  37: 55.0,\n  16: 52.9,\n  50: 49.0,\n  517: 49.1,\n  134: 48.8,\n  223: 51.5,\n  163: 50.4,\n  91: 49.6,\n  44: 47.9,\n  17: 51.4,\n  412: 47.8,\n  18: 49.1,\n  48: 52.7,\n  23: 50.3,\n  4: 48.6,\n  29: 50.2,\n  77: 49.9,\n  6: 51.8,\n  110: 47.0,\n  67: 53.4,\n  45: 49.6,\n  161: 50.7,\n  711: 50.4,\n  254: 52.8,\n  234: 50.8,\n  112: 52.5,\n  8: 50.2,\n  106: 49.8,\n  19: 51.6,\n  62: 49.5,\n  498: 50.2,\n  101: 50.7,\n  5: 51.4,\n  157: 49.1,\n  777: 49.3,\n  83: 51.7,\n  350: 49.4,\n  154: 51.4,\n  238: 49.6,\n  115: 51.4,\n  26: 52.1,\n  142: 46.8,\n  143: 50.7},\n 'best_partner': {266: 107,\n  103: 54,\n  84: 32,\n  166: 32,\n  12: 48,\n  32: 37,\n  34: 98,\n  1: 254,\n  523: 34,\n  22: 166,\n  136: 117,\n  268: 234,\n  432: 48,\n  53: 106,\n  63: 86,\n  201: 34,\n  51: 36,\n  164: 90,\n  69: 98,\n  31: 67,\n  42: 6,\n  122: 245,\n  131: 37,\n  36: 101,\n  119: 101,\n  245: 5,\n  60: 75,\n  28: 37,\n  81: 37,\n  9: 37,\n  114: 96,\n  105: 498,\n  3: 16,\n  41: 57,\n  86: 37,\n  150: 90,\n  79: 246,\n  104: 48,\n  887: 26,\n  120: 101,\n  74: 234,\n  420: 67,\n  39: 106,\n  427: 157,\n  40: 83,\n  59: 34,\n  24: 90,\n  126: 37,\n  202: 90,\n  222: 32,\n  145: 115,\n  429: 254,\n  43: 5,\n  30: 166,\n  38: 143,\n  55: 10,\n  10: 48,\n  141: 86,\n  85: 67,\n  121: 34,\n  203: 201,\n  240: 101,\n  96: 20,\n  7: 96,\n  64: 69,\n  89: 3,\n  876: 16,\n  127: 5,\n  236: 37,\n  117: 161,\n  99: 166,\n  54: 48,\n  90: 24,\n  57: 121,\n  11: 90,\n  21: 36,\n  82: 48,\n  25: 69,\n  267: 33,\n  75: 50,\n  111: 115,\n  518: 67,\n  76: 38,\n  56: 16,\n  20: 37,\n  2: 350,\n  61: 48,\n  516: 37,\n  80: 223,\n  78: 37,\n  555: 48,\n  246: 37,\n  133: 112,\n  497: 86,\n  33: 267,\n  421: 112,\n  526: 17,\n  58: 20,\n  107: 266,\n  92: 34,\n  68: 67,\n  13: 117,\n  360: 526,\n  113: 37,\n  235: 98,\n  147: 33,\n  875: 102,\n  35: 6,\n  98: 34,\n  102: 16,\n  27: 166,\n  14: 166,\n  15: 10,\n  72: 67,\n  37: 86,\n  16: 3,\n  50: 75,\n  517: 15,\n  134: 20,\n  223: 37,\n  163: 67,\n  91: 34,\n  44: 104,\n  17: 37,\n  412: 115,\n  18: 33,\n  48: 10,\n  23: 37,\n  4: 54,\n  29: 6,\n  77: 67,\n  6: 29,\n  110: 37,\n  67: 131,\n  45: 143,\n  161: 48,\n  711: 37,\n  254: 83,\n  234: 161,\n  112: 133,\n  8: 6,\n  106: 201,\n  19: 15,\n  62: 121,\n  498: 37,\n  101: 90,\n  5: 516,\n  157: 37,\n  777: 1,\n  83: 254,\n  350: 2,\n  154: 34,\n  238: 37,\n  115: 37,\n  26: 34,\n  142: 59,\n  143: 254},\n 'synergy(%)': {266: 6.5,\n  103: 8.1,\n  84: 7.2,\n  166: 9.6,\n  12: 9.6,\n  32: 10.6,\n  34: 8.5,\n  1: 7.6,\n  523: 8.5,\n  22: 7.6,\n  136: 7.0,\n  268: 8.3,\n  432: 7.9,\n  53: 6.6,\n  63: 7.2,\n  201: 8.0,\n  51: 4.8,\n  164: 9.5,\n  69: 8.6,\n  31: 6.3,\n  42: 8.1,\n  122: 6.8,\n  131: 8.3,\n  36: 10.6,\n  119: 9.4,\n  245: 7.7,\n  60: 9.1,\n  28: 10.3,\n  81: 7.2,\n  9: 12.0,\n  114: 7.9,\n  105: 7.1,\n  3: 12.4,\n  41: 7.2,\n  86: 12.8,\n  150: 5.5,\n  79: 5.4,\n  104: 7.8,\n  887: 12.0,\n  120: 7.1,\n  74: 4.2,\n  420: 8.0,\n  39: 7.5,\n  427: 5.5,\n  40: 6.1,\n  59: 9.3,\n  24: 9.5,\n  126: 8.3,\n  202: 5.7,\n  222: 6.1,\n  145: 11.0,\n  429: 6.7,\n  43: 6.9,\n  30: 11.9,\n  38: 7.4,\n  55: 5.9,\n  10: 9.8,\n  141: 6.1,\n  85: 9.1,\n  121: 8.5,\n  203: 8.4,\n  240: 7.1,\n  96: 7.5,\n  7: 6.1,\n  64: 6.1,\n  89: 6.7,\n  876: 9.3,\n  127: 7.2,\n  236: 9.1,\n  117: 6.6,\n  99: 6.2,\n  54: 9.9,\n  90: 8.1,\n  57: 7.1,\n  11: 7.8,\n  21: 8.1,\n  82: 6.9,\n  25: 8.9,\n  267: 7.1,\n  75: 8.8,\n  111: 9.3,\n  518: 9.8,\n  76: 4.9,\n  56: 6.6,\n  20: 10.3,\n  2: 8.2,\n  61: 9.6,\n  516: 8.6,\n  80: 5.9,\n  78: 7.9,\n  555: 7.3,\n  246: 12.5,\n  133: 8.2,\n  497: 8.8,\n  33: 7.4,\n  421: 6.6,\n  526: 7.8,\n  58: 7.2,\n  107: 8.2,\n  92: 8.5,\n  68: 6.4,\n  13: 6.3,\n  360: 7.7,\n  113: 11.3,\n  235: 7.1,\n  147: 7.4,\n  875: 8.3,\n  35: 7.5,\n  98: 8.7,\n  102: 10.2,\n  27: 6.6,\n  14: 9.1,\n  15: 11.1,\n  72: 8.8,\n  37: 10.1,\n  16: 8.6,\n  50: 11.5,\n  517: 7.3,\n  134: 10.0,\n  223: 9.0,\n  163: 2.1,\n  91: 10.2,\n  44: 5.0,\n  17: 7.0,\n  412: 5.5,\n  18: 10.0,\n  48: 9.6,\n  23: 9.8,\n  4: 7.2,\n  29: 9.3,\n  77: 7.7,\n  6: 7.8,\n  110: 15.4,\n  67: 7.7,\n  45: 9.4,\n  161: 10.2,\n  711: 10.0,\n  254: 8.3,\n  234: 6.9,\n  112: 7.6,\n  8: 9.2,\n  106: 8.9,\n  19: 7.5,\n  62: 8.0,\n  498: 8.5,\n  101: 8.1,\n  5: 8.0,\n  157: 6.1,\n  777: 8.4,\n  83: 9.3,\n  350: 6.1,\n  154: 9.6,\n  238: 7.9,\n  115: 12.9,\n  26: 8.8,\n  142: 7.7,\n  143: 10.9},\n 'worst_enemy_for': {266: 41,\n  103: 7,\n  84: 887,\n  166: 142,\n  12: 412,\n  32: 91,\n  34: 7,\n  1: 777,\n  523: 18,\n  22: 236,\n  136: 157,\n  268: 84,\n  432: 201,\n  53: 235,\n  63: 50,\n  201: 89,\n  51: 523,\n  164: 62,\n  69: 7,\n  31: 92,\n  42: 61,\n  122: 240,\n  131: 55,\n  36: 126,\n  119: 15,\n  245: 39,\n  60: 203,\n  28: 76,\n  81: 429,\n  9: 76,\n  114: 240,\n  105: 101,\n  3: 84,\n  41: 58,\n  86: 84,\n  150: 41,\n  79: 126,\n  104: 427,\n  887: 266,\n  120: 246,\n  74: 84,\n  420: 777,\n  39: 13,\n  427: 245,\n  40: 555,\n  59: 876,\n  24: 240,\n  126: 517,\n  202: 523,\n  222: 429,\n  145: 523,\n  429: 523,\n  43: 80,\n  30: 20,\n  38: 245,\n  55: 45,\n  10: 41,\n  141: 79,\n  85: 41,\n  121: 56,\n  203: 60,\n  240: 39,\n  96: 360,\n  7: 1,\n  64: 107,\n  89: 101,\n  876: 238,\n  127: 157,\n  236: 110,\n  117: 80,\n  99: 268,\n  54: 24,\n  90: 142,\n  57: 555,\n  11: 876,\n  21: 429,\n  82: 420,\n  25: 201,\n  267: 44,\n  75: 126,\n  111: 80,\n  518: 157,\n  76: 203,\n  56: 107,\n  20: 56,\n  2: 64,\n  61: 517,\n  516: 58,\n  80: 157,\n  78: 246,\n  555: 161,\n  246: 39,\n  133: 41,\n  497: 526,\n  33: 76,\n  421: 238,\n  526: 555,\n  58: 84,\n  107: 777,\n  92: 84,\n  68: 126,\n  13: 7,\n  360: 523,\n  113: 91,\n  235: 432,\n  147: 50,\n  875: 107,\n  35: 427,\n  98: 84,\n  102: 91,\n  27: 24,\n  14: 41,\n  15: 523,\n  72: 64,\n  37: 43,\n  16: 50,\n  50: 89,\n  517: 54,\n  134: 7,\n  223: 41,\n  163: 104,\n  91: 79,\n  44: 555,\n  17: 41,\n  412: 80,\n  18: 110,\n  48: 33,\n  23: 39,\n  4: 13,\n  29: 110,\n  77: 91,\n  6: 41,\n  110: 119,\n  67: 429,\n  45: 142,\n  161: 235,\n  711: 777,\n  254: 427,\n  234: 2,\n  112: 13,\n  8: 7,\n  106: 120,\n  19: 76,\n  62: 39,\n  498: 523,\n  101: 235,\n  5: 107,\n  157: 518,\n  777: 82,\n  83: 126,\n  350: 161,\n  154: 107,\n  238: 268,\n  115: 236,\n  26: 50,\n  142: 7,\n  143: 40},\n 'counter(%)': {266: 6.8,\n  103: 4.8,\n  84: 6.5,\n  166: 9.2,\n  12: 6.0,\n  32: 8.7,\n  34: 6.4,\n  1: 4.3,\n  523: 3.9,\n  22: 4.3,\n  136: 4.0,\n  268: 5.3,\n  432: 8.5,\n  53: 4.0,\n  63: 6.0,\n  201: 3.3,\n  51: 4.5,\n  164: 6.4,\n  69: 6.9,\n  31: 8.0,\n  42: 8.1,\n  122: 7.4,\n  131: 9.5,\n  36: 6.7,\n  119: 3.2,\n  245: 6.9,\n  60: 7.9,\n  28: 10.6,\n  81: 4.6,\n  9: 7.2,\n  114: 8.7,\n  105: 6.9,\n  3: 9.9,\n  41: 8.3,\n  86: 5.4,\n  150: 5.4,\n  79: 6.1,\n  104: 3.7,\n  887: 8.3,\n  120: 8.3,\n  74: 4.0,\n  420: 10.0,\n  39: 3.3,\n  427: 3.8,\n  40: 5.4,\n  59: 7.6,\n  24: 7.8,\n  126: 3.2,\n  202: 4.2,\n  222: 3.2,\n  145: 8.3,\n  429: 5.6,\n  43: 2.1,\n  30: 7.4,\n  38: 5.4,\n  55: 7.6,\n  10: 7.2,\n  141: 7.0,\n  85: 4.2,\n  121: 7.2,\n  203: 6.8,\n  240: 6.1,\n  96: 7.2,\n  7: 4.9,\n  64: 4.9,\n  89: 7.3,\n  876: 5.8,\n  127: 7.8,\n  236: 2.8,\n  117: 8.0,\n  99: 6.4,\n  54: 6.1,\n  90: 3.3,\n  57: 6.2,\n  11: 16.9,\n  21: 8.5,\n  82: 5.4,\n  25: 6.9,\n  267: 5.6,\n  75: 7.2,\n  111: 1.9,\n  518: 4.5,\n  76: 11.8,\n  56: 8.5,\n  20: 3.5,\n  2: 6.6,\n  61: 9.3,\n  516: 5.7,\n  80: 6.5,\n  78: 5.2,\n  555: 9.5,\n  246: 10.4,\n  133: 4.5,\n  497: 4.1,\n  33: 3.3,\n  421: 7.0,\n  526: 6.1,\n  58: 8.1,\n  107: 9.0,\n  92: 2.4,\n  68: 8.5,\n  13: 3.9,\n  360: 3.8,\n  113: 3.5,\n  235: 4.0,\n  147: 8.5,\n  875: 5.8,\n  35: 7.9,\n  98: 4.5,\n  102: 6.2,\n  27: 7.3,\n  14: 7.9,\n  15: 6.2,\n  72: 2.9,\n  37: 4.7,\n  16: 7.1,\n  50: 8.2,\n  517: 4.8,\n  134: 6.1,\n  223: 0.3,\n  163: 4.0,\n  91: 8.7,\n  44: 10.3,\n  17: 3.3,\n  412: 11.3,\n  18: 7.0,\n  48: 6.8,\n  23: 11.6,\n  4: 5.9,\n  29: 7.6,\n  77: 7.6,\n  6: 8.5,\n  110: 5.1,\n  67: 6.9,\n  45: 4.3,\n  161: 7.0,\n  711: 5.8,\n  254: 4.0,\n  234: 6.8,\n  112: 6.2,\n  8: 9.8,\n  106: 11.5,\n  19: 5.7,\n  62: 4.9,\n  498: 5.4,\n  101: 5.7,\n  5: 5.5,\n  157: 9.8,\n  777: 6.9,\n  83: 5.3,\n  350: 9.8,\n  154: 14.2,\n  238: 7.1,\n  115: 5.8,\n  26: 7.4,\n  142: 6.2,\n  143: 6.0},\n 'is_countered_by': {266: 887,\n  103: 69,\n  84: 98,\n  166: 223,\n  12: 432,\n  32: 20,\n  34: 101,\n  1: 7,\n  523: 15,\n  22: 115,\n  136: 112,\n  268: 238,\n  432: 143,\n  53: 526,\n  63: 101,\n  201: 432,\n  51: 15,\n  164: 98,\n  69: 101,\n  31: 777,\n  42: 166,\n  122: 48,\n  131: 48,\n  36: 39,\n  119: 115,\n  245: 38,\n  60: 19,\n  28: 20,\n  81: 67,\n  9: 48,\n  114: 10,\n  105: 34,\n  3: 99,\n  41: 133,\n  86: 10,\n  150: 39,\n  79: 254,\n  104: 9,\n  887: 166,\n  120: 106,\n  74: 82,\n  420: 246,\n  39: 254,\n  427: 143,\n  40: 32,\n  59: 36,\n  24: 36,\n  126: 67,\n  202: 96,\n  222: 67,\n  145: 21,\n  429: 37,\n  43: 11,\n  30: 69,\n  38: 131,\n  55: 36,\n  10: 11,\n  141: 75,\n  85: 20,\n  121: 107,\n  203: 114,\n  240: 67,\n  96: 34,\n  7: 32,\n  64: 37,\n  89: 11,\n  876: 112,\n  127: 115,\n  236: 37,\n  117: 131,\n  99: 517,\n  54: 105,\n  90: 101,\n  57: 48,\n  11: 498,\n  21: 777,\n  82: 16,\n  25: 37,\n  267: 517,\n  75: 37,\n  111: 157,\n  518: 19,\n  76: 20,\n  56: 48,\n  20: 234,\n  2: 42,\n  61: 86,\n  516: 111,\n  80: 19,\n  78: 526,\n  555: 120,\n  246: 17,\n  133: 37,\n  497: 48,\n  33: 234,\n  421: 267,\n  526: 516,\n  58: 154,\n  107: 31,\n  92: 126,\n  68: 4,\n  13: 96,\n  360: 254,\n  113: 16,\n  235: 16,\n  147: 516,\n  875: 104,\n  35: 27,\n  98: 120,\n  102: 10,\n  27: 10,\n  14: 67,\n  15: 234,\n  72: 12,\n  37: 37,\n  16: 26,\n  50: 17,\n  517: 39,\n  134: 98,\n  223: 234,\n  163: 32,\n  91: 267,\n  44: 6,\n  17: 37,\n  412: 96,\n  18: 24,\n  48: 6,\n  23: 34,\n  4: 96,\n  29: 876,\n  77: 36,\n  6: 18,\n  110: 22,\n  67: 55,\n  45: 37,\n  161: 69,\n  711: 48,\n  254: 48,\n  234: 101,\n  112: 103,\n  8: 24,\n  106: 106,\n  19: 164,\n  62: 67,\n  498: 166,\n  101: 254,\n  5: 90,\n  157: 19,\n  777: 777,\n  83: 37,\n  350: 106,\n  154: 48,\n  238: 67,\n  115: 117,\n  26: 166,\n  142: 37,\n  143: 37},\n 'countered(%)': {266: 5.7,\n  103: 5.4,\n  84: 7.7,\n  166: 7.0,\n  12: 5.0,\n  32: 5.0,\n  34: 6.7,\n  1: 5.4,\n  523: 5.1,\n  22: 4.6,\n  136: 3.0,\n  268: 8.7,\n  432: 6.9,\n  53: 5.5,\n  63: 5.7,\n  201: 7.8,\n  51: 3.0,\n  164: 5.4,\n  69: 4.5,\n  31: 4.2,\n  42: 6.2,\n  122: 6.6,\n  131: 8.8,\n  36: 5.6,\n  119: 8.1,\n  245: 8.2,\n  60: 10.0,\n  28: 5.9,\n  81: 4.5,\n  9: 10.1,\n  114: 6.7,\n  105: 7.8,\n  3: 6.9,\n  41: 7.8,\n  86: 5.3,\n  150: 7.2,\n  79: 7.5,\n  104: 7.0,\n  887: 7.3,\n  120: 10.8,\n  74: 8.1,\n  420: 7.4,\n  39: 7.2,\n  427: 7.7,\n  40: 5.2,\n  59: 8.7,\n  24: 7.7,\n  126: 4.8,\n  202: 3.7,\n  222: 4.2,\n  145: 12.5,\n  429: 6.8,\n  43: 6.4,\n  30: 5.4,\n  38: 7.5,\n  55: 6.5,\n  10: 4.4,\n  141: 3.0,\n  85: 6.5,\n  121: 11.1,\n  203: 8.1,\n  240: 4.4,\n  96: 6.8,\n  7: 5.7,\n  64: 7.4,\n  89: 5.6,\n  876: 5.8,\n  127: 6.6,\n  236: 5.9,\n  117: 5.7,\n  99: 7.8,\n  54: 8.6,\n  90: 4.5,\n  57: 5.1,\n  11: 2.4,\n  21: 8.5,\n  82: 5.0,\n  25: 5.2,\n  267: 7.9,\n  75: 6.4,\n  111: 1.9,\n  518: 10.2,\n  76: 8.7,\n  56: 5.7,\n  20: 2.0,\n  2: 6.4,\n  61: 7.3,\n  516: 6.3,\n  80: 8.0,\n  78: 6.3,\n  555: 8.1,\n  246: 6.1,\n  133: 6.2,\n  497: 11.7,\n  33: 4.9,\n  421: 7.4,\n  526: 8.5,\n  58: 8.5,\n  107: 7.6,\n  92: 2.4,\n  68: 4.9,\n  13: 7.9,\n  360: 9.4,\n  113: 5.5,\n  235: 5.3,\n  147: 7.4,\n  875: 4.5,\n  35: 6.3,\n  98: 5.6,\n  102: 8.8,\n  27: 5.1,\n  14: 7.8,\n  15: 0.1,\n  72: 4.7,\n  37: 5.6,\n  16: 6.8,\n  50: 7.1,\n  517: 6.5,\n  134: 5.7,\n  223: 2.8,\n  163: 10.6,\n  91: 7.1,\n  44: 6.3,\n  17: 4.0,\n  412: 4.9,\n  18: 5.4,\n  48: 6.3,\n  23: 5.3,\n  4: 4.4,\n  29: 5.1,\n  77: 10.7,\n  6: 7.4,\n  110: 2.8,\n  67: 3.6,\n  45: 7.2,\n  161: 8.0,\n  711: 6.2,\n  254: 5.4,\n  234: 4.2,\n  112: 5.5,\n  8: 5.0,\n  106: 7.3,\n  19: 5.6,\n  62: 4.5,\n  498: 8.2,\n  101: 4.9,\n  5: 5.6,\n  157: 6.8,\n  777: 6.0,\n  83: 4.4,\n  350: 9.3,\n  154: 8.0,\n  238: 5.6,\n  115: 5.8,\n  26: 8.6,\n  142: 8.9,\n  143: 6.5}}"
     },
     "execution_count": 28,
     "metadata": {},
     "output_type": "execute_result"
    }
   ],
   "source": [
    "synergy_counters_dict = synergy_counters_df.set_index('my_champion').to_dict()\n",
    "synergy_counters_dict"
   ]
  },
  {
   "cell_type": "code",
   "execution_count": 29,
   "metadata": {},
   "outputs": [
    {
     "name": "stderr",
     "output_type": "stream",
     "text": [
      "C:\\Users\\tphuo\\AppData\\Local\\Temp/ipykernel_13852/2320627175.py:1: SettingWithCopyWarning: \n",
      "A value is trying to be set on a copy of a slice from a DataFrame.\n",
      "Try using .loc[row_indexer,col_indexer] = value instead\n",
      "\n",
      "See the caveats in the documentation: https://pandas.pydata.org/pandas-docs/stable/user_guide/indexing.html#returning-a-view-versus-a-copy\n",
      "  df['win_rate(%)'] = [synergy_counters_dict.get('win_rate(%)').get(champID) for champID in df['player_champ']]\n",
      "C:\\Users\\tphuo\\AppData\\Local\\Temp/ipykernel_13852/2320627175.py:2: SettingWithCopyWarning: \n",
      "A value is trying to be set on a copy of a slice from a DataFrame.\n",
      "Try using .loc[row_indexer,col_indexer] = value instead\n",
      "\n",
      "See the caveats in the documentation: https://pandas.pydata.org/pandas-docs/stable/user_guide/indexing.html#returning-a-view-versus-a-copy\n",
      "  df['best_partner'] = [synergy_counters_dict.get('best_partner').get(champID) for champID in df['player_champ']]\n",
      "C:\\Users\\tphuo\\AppData\\Local\\Temp/ipykernel_13852/2320627175.py:3: SettingWithCopyWarning: \n",
      "A value is trying to be set on a copy of a slice from a DataFrame.\n",
      "Try using .loc[row_indexer,col_indexer] = value instead\n",
      "\n",
      "See the caveats in the documentation: https://pandas.pydata.org/pandas-docs/stable/user_guide/indexing.html#returning-a-view-versus-a-copy\n",
      "  df['is_countered_by'] = [synergy_counters_dict.get('is_countered_by').get(champID) for champID in df['player_champ']]\n"
     ]
    }
   ],
   "source": [
    "df['win_rate(%)'] = [synergy_counters_dict.get('win_rate(%)').get(champID) for champID in df['player_champ']]\n",
    "df['best_partner'] = [synergy_counters_dict.get('best_partner').get(champID) for champID in df['player_champ']]\n",
    "df['is_countered_by'] = [synergy_counters_dict.get('is_countered_by').get(champID) for champID in df['player_champ']]"
   ]
  },
  {
   "cell_type": "code",
   "execution_count": 30,
   "metadata": {},
   "outputs": [
    {
     "data": {
      "text/plain": "      player_champ player_champ_name player_position  is_player_win  \\\n0               51           caitlyn          BOTTOM           True   \n1               22              ashe          BOTTOM           True   \n2               51           caitlyn          BOTTOM          False   \n3               67             vayne          BOTTOM          False   \n4               51           caitlyn          BOTTOM           True   \n...            ...               ...             ...            ...   \n1956            92             riven             TOP          False   \n1957            92             riven             TOP           True   \n1958            92             riven             TOP           True   \n1959            92             riven             TOP          False   \n1960           523          aphelios             TOP           True   \n\n      ally_champ1  ally_champ2  enemy_champ1  enemy_champ2  win_rate(%)  \\\n0             777            4           114           154         48.7   \n1              30           91            62            76         51.7   \n2              85          104            36            91         48.7   \n3              17           76           104           234         53.4   \n4              39           28            24            76         48.7   \n...           ...          ...           ...           ...          ...   \n1956          154            8           240           141         49.3   \n1957           64           26            41            11         49.3   \n1958           28          112           875           131         49.3   \n1959          245          238           112            20         49.3   \n1960           78          107           142            56         46.4   \n\n      best_partner  is_countered_by  \n0               36               15  \n1              166              115  \n2               36               15  \n3              131               55  \n4               36               15  \n...            ...              ...  \n1956            34              126  \n1957            34              126  \n1958            34              126  \n1959            34              126  \n1960            34               15  \n\n[1961 rows x 11 columns]",
      "text/html": "<div>\n<style scoped>\n    .dataframe tbody tr th:only-of-type {\n        vertical-align: middle;\n    }\n\n    .dataframe tbody tr th {\n        vertical-align: top;\n    }\n\n    .dataframe thead th {\n        text-align: right;\n    }\n</style>\n<table border=\"1\" class=\"dataframe\">\n  <thead>\n    <tr style=\"text-align: right;\">\n      <th></th>\n      <th>player_champ</th>\n      <th>player_champ_name</th>\n      <th>player_position</th>\n      <th>is_player_win</th>\n      <th>ally_champ1</th>\n      <th>ally_champ2</th>\n      <th>enemy_champ1</th>\n      <th>enemy_champ2</th>\n      <th>win_rate(%)</th>\n      <th>best_partner</th>\n      <th>is_countered_by</th>\n    </tr>\n  </thead>\n  <tbody>\n    <tr>\n      <th>0</th>\n      <td>51</td>\n      <td>caitlyn</td>\n      <td>BOTTOM</td>\n      <td>True</td>\n      <td>777</td>\n      <td>4</td>\n      <td>114</td>\n      <td>154</td>\n      <td>48.7</td>\n      <td>36</td>\n      <td>15</td>\n    </tr>\n    <tr>\n      <th>1</th>\n      <td>22</td>\n      <td>ashe</td>\n      <td>BOTTOM</td>\n      <td>True</td>\n      <td>30</td>\n      <td>91</td>\n      <td>62</td>\n      <td>76</td>\n      <td>51.7</td>\n      <td>166</td>\n      <td>115</td>\n    </tr>\n    <tr>\n      <th>2</th>\n      <td>51</td>\n      <td>caitlyn</td>\n      <td>BOTTOM</td>\n      <td>False</td>\n      <td>85</td>\n      <td>104</td>\n      <td>36</td>\n      <td>91</td>\n      <td>48.7</td>\n      <td>36</td>\n      <td>15</td>\n    </tr>\n    <tr>\n      <th>3</th>\n      <td>67</td>\n      <td>vayne</td>\n      <td>BOTTOM</td>\n      <td>False</td>\n      <td>17</td>\n      <td>76</td>\n      <td>104</td>\n      <td>234</td>\n      <td>53.4</td>\n      <td>131</td>\n      <td>55</td>\n    </tr>\n    <tr>\n      <th>4</th>\n      <td>51</td>\n      <td>caitlyn</td>\n      <td>BOTTOM</td>\n      <td>True</td>\n      <td>39</td>\n      <td>28</td>\n      <td>24</td>\n      <td>76</td>\n      <td>48.7</td>\n      <td>36</td>\n      <td>15</td>\n    </tr>\n    <tr>\n      <th>...</th>\n      <td>...</td>\n      <td>...</td>\n      <td>...</td>\n      <td>...</td>\n      <td>...</td>\n      <td>...</td>\n      <td>...</td>\n      <td>...</td>\n      <td>...</td>\n      <td>...</td>\n      <td>...</td>\n    </tr>\n    <tr>\n      <th>1956</th>\n      <td>92</td>\n      <td>riven</td>\n      <td>TOP</td>\n      <td>False</td>\n      <td>154</td>\n      <td>8</td>\n      <td>240</td>\n      <td>141</td>\n      <td>49.3</td>\n      <td>34</td>\n      <td>126</td>\n    </tr>\n    <tr>\n      <th>1957</th>\n      <td>92</td>\n      <td>riven</td>\n      <td>TOP</td>\n      <td>True</td>\n      <td>64</td>\n      <td>26</td>\n      <td>41</td>\n      <td>11</td>\n      <td>49.3</td>\n      <td>34</td>\n      <td>126</td>\n    </tr>\n    <tr>\n      <th>1958</th>\n      <td>92</td>\n      <td>riven</td>\n      <td>TOP</td>\n      <td>True</td>\n      <td>28</td>\n      <td>112</td>\n      <td>875</td>\n      <td>131</td>\n      <td>49.3</td>\n      <td>34</td>\n      <td>126</td>\n    </tr>\n    <tr>\n      <th>1959</th>\n      <td>92</td>\n      <td>riven</td>\n      <td>TOP</td>\n      <td>False</td>\n      <td>245</td>\n      <td>238</td>\n      <td>112</td>\n      <td>20</td>\n      <td>49.3</td>\n      <td>34</td>\n      <td>126</td>\n    </tr>\n    <tr>\n      <th>1960</th>\n      <td>523</td>\n      <td>aphelios</td>\n      <td>TOP</td>\n      <td>True</td>\n      <td>78</td>\n      <td>107</td>\n      <td>142</td>\n      <td>56</td>\n      <td>46.4</td>\n      <td>34</td>\n      <td>15</td>\n    </tr>\n  </tbody>\n</table>\n<p>1961 rows × 11 columns</p>\n</div>"
     },
     "execution_count": 30,
     "metadata": {},
     "output_type": "execute_result"
    }
   ],
   "source": [
    "df"
   ]
  },
  {
   "cell_type": "code",
   "execution_count": 31,
   "metadata": {},
   "outputs": [
    {
     "data": {
      "text/plain": "1961"
     },
     "execution_count": 31,
     "metadata": {},
     "output_type": "execute_result"
    }
   ],
   "source": [
    "df.shape[0]"
   ]
  },
  {
   "cell_type": "code",
   "execution_count": 32,
   "metadata": {},
   "outputs": [
    {
     "name": "stderr",
     "output_type": "stream",
     "text": [
      "C:\\Users\\tphuo\\AppData\\Local\\Temp/ipykernel_13852/3217573566.py:1: SettingWithCopyWarning: \n",
      "A value is trying to be set on a copy of a slice from a DataFrame.\n",
      "Try using .loc[row_indexer,col_indexer] = value instead\n",
      "\n",
      "See the caveats in the documentation: https://pandas.pydata.org/pandas-docs/stable/user_guide/indexing.html#returning-a-view-versus-a-copy\n",
      "  df['win_rate>50%'] = [(df['win_rate(%)'][index] > 50) for index in range(df.shape[0])]\n"
     ]
    },
    {
     "data": {
      "text/plain": "      player_champ player_champ_name player_position  is_player_win  \\\n0               51           caitlyn          BOTTOM           True   \n1               22              ashe          BOTTOM           True   \n2               51           caitlyn          BOTTOM          False   \n3               67             vayne          BOTTOM          False   \n4               51           caitlyn          BOTTOM           True   \n...            ...               ...             ...            ...   \n1956            92             riven             TOP          False   \n1957            92             riven             TOP           True   \n1958            92             riven             TOP           True   \n1959            92             riven             TOP          False   \n1960           523          aphelios             TOP           True   \n\n      ally_champ1  ally_champ2  enemy_champ1  enemy_champ2  win_rate(%)  \\\n0             777            4           114           154         48.7   \n1              30           91            62            76         51.7   \n2              85          104            36            91         48.7   \n3              17           76           104           234         53.4   \n4              39           28            24            76         48.7   \n...           ...          ...           ...           ...          ...   \n1956          154            8           240           141         49.3   \n1957           64           26            41            11         49.3   \n1958           28          112           875           131         49.3   \n1959          245          238           112            20         49.3   \n1960           78          107           142            56         46.4   \n\n      best_partner  is_countered_by  win_rate>50%  \n0               36               15         False  \n1              166              115          True  \n2               36               15         False  \n3              131               55          True  \n4               36               15         False  \n...            ...              ...           ...  \n1956            34              126         False  \n1957            34              126         False  \n1958            34              126         False  \n1959            34              126         False  \n1960            34               15         False  \n\n[1961 rows x 12 columns]",
      "text/html": "<div>\n<style scoped>\n    .dataframe tbody tr th:only-of-type {\n        vertical-align: middle;\n    }\n\n    .dataframe tbody tr th {\n        vertical-align: top;\n    }\n\n    .dataframe thead th {\n        text-align: right;\n    }\n</style>\n<table border=\"1\" class=\"dataframe\">\n  <thead>\n    <tr style=\"text-align: right;\">\n      <th></th>\n      <th>player_champ</th>\n      <th>player_champ_name</th>\n      <th>player_position</th>\n      <th>is_player_win</th>\n      <th>ally_champ1</th>\n      <th>ally_champ2</th>\n      <th>enemy_champ1</th>\n      <th>enemy_champ2</th>\n      <th>win_rate(%)</th>\n      <th>best_partner</th>\n      <th>is_countered_by</th>\n      <th>win_rate&gt;50%</th>\n    </tr>\n  </thead>\n  <tbody>\n    <tr>\n      <th>0</th>\n      <td>51</td>\n      <td>caitlyn</td>\n      <td>BOTTOM</td>\n      <td>True</td>\n      <td>777</td>\n      <td>4</td>\n      <td>114</td>\n      <td>154</td>\n      <td>48.7</td>\n      <td>36</td>\n      <td>15</td>\n      <td>False</td>\n    </tr>\n    <tr>\n      <th>1</th>\n      <td>22</td>\n      <td>ashe</td>\n      <td>BOTTOM</td>\n      <td>True</td>\n      <td>30</td>\n      <td>91</td>\n      <td>62</td>\n      <td>76</td>\n      <td>51.7</td>\n      <td>166</td>\n      <td>115</td>\n      <td>True</td>\n    </tr>\n    <tr>\n      <th>2</th>\n      <td>51</td>\n      <td>caitlyn</td>\n      <td>BOTTOM</td>\n      <td>False</td>\n      <td>85</td>\n      <td>104</td>\n      <td>36</td>\n      <td>91</td>\n      <td>48.7</td>\n      <td>36</td>\n      <td>15</td>\n      <td>False</td>\n    </tr>\n    <tr>\n      <th>3</th>\n      <td>67</td>\n      <td>vayne</td>\n      <td>BOTTOM</td>\n      <td>False</td>\n      <td>17</td>\n      <td>76</td>\n      <td>104</td>\n      <td>234</td>\n      <td>53.4</td>\n      <td>131</td>\n      <td>55</td>\n      <td>True</td>\n    </tr>\n    <tr>\n      <th>4</th>\n      <td>51</td>\n      <td>caitlyn</td>\n      <td>BOTTOM</td>\n      <td>True</td>\n      <td>39</td>\n      <td>28</td>\n      <td>24</td>\n      <td>76</td>\n      <td>48.7</td>\n      <td>36</td>\n      <td>15</td>\n      <td>False</td>\n    </tr>\n    <tr>\n      <th>...</th>\n      <td>...</td>\n      <td>...</td>\n      <td>...</td>\n      <td>...</td>\n      <td>...</td>\n      <td>...</td>\n      <td>...</td>\n      <td>...</td>\n      <td>...</td>\n      <td>...</td>\n      <td>...</td>\n      <td>...</td>\n    </tr>\n    <tr>\n      <th>1956</th>\n      <td>92</td>\n      <td>riven</td>\n      <td>TOP</td>\n      <td>False</td>\n      <td>154</td>\n      <td>8</td>\n      <td>240</td>\n      <td>141</td>\n      <td>49.3</td>\n      <td>34</td>\n      <td>126</td>\n      <td>False</td>\n    </tr>\n    <tr>\n      <th>1957</th>\n      <td>92</td>\n      <td>riven</td>\n      <td>TOP</td>\n      <td>True</td>\n      <td>64</td>\n      <td>26</td>\n      <td>41</td>\n      <td>11</td>\n      <td>49.3</td>\n      <td>34</td>\n      <td>126</td>\n      <td>False</td>\n    </tr>\n    <tr>\n      <th>1958</th>\n      <td>92</td>\n      <td>riven</td>\n      <td>TOP</td>\n      <td>True</td>\n      <td>28</td>\n      <td>112</td>\n      <td>875</td>\n      <td>131</td>\n      <td>49.3</td>\n      <td>34</td>\n      <td>126</td>\n      <td>False</td>\n    </tr>\n    <tr>\n      <th>1959</th>\n      <td>92</td>\n      <td>riven</td>\n      <td>TOP</td>\n      <td>False</td>\n      <td>245</td>\n      <td>238</td>\n      <td>112</td>\n      <td>20</td>\n      <td>49.3</td>\n      <td>34</td>\n      <td>126</td>\n      <td>False</td>\n    </tr>\n    <tr>\n      <th>1960</th>\n      <td>523</td>\n      <td>aphelios</td>\n      <td>TOP</td>\n      <td>True</td>\n      <td>78</td>\n      <td>107</td>\n      <td>142</td>\n      <td>56</td>\n      <td>46.4</td>\n      <td>34</td>\n      <td>15</td>\n      <td>False</td>\n    </tr>\n  </tbody>\n</table>\n<p>1961 rows × 12 columns</p>\n</div>"
     },
     "execution_count": 32,
     "metadata": {},
     "output_type": "execute_result"
    }
   ],
   "source": [
    "df['win_rate>50%'] = [(df['win_rate(%)'][index] > 50) for index in range(df.shape[0])]\n",
    "df"
   ]
  },
  {
   "cell_type": "code",
   "execution_count": 33,
   "metadata": {},
   "outputs": [
    {
     "name": "stderr",
     "output_type": "stream",
     "text": [
      "C:\\Users\\tphuo\\AppData\\Local\\Temp/ipykernel_13852/2180125121.py:1: SettingWithCopyWarning: \n",
      "A value is trying to be set on a copy of a slice from a DataFrame.\n",
      "Try using .loc[row_indexer,col_indexer] = value instead\n",
      "\n",
      "See the caveats in the documentation: https://pandas.pydata.org/pandas-docs/stable/user_guide/indexing.html#returning-a-view-versus-a-copy\n",
      "  df['has_synergy'] = [(df['best_partner'][index] == df['ally_champ1'][index] or df['best_partner'][index] == df['ally_champ2'][index]) for index in range(df.shape[0])]\n"
     ]
    },
    {
     "data": {
      "text/plain": "      player_champ player_champ_name player_position  is_player_win  \\\n0               51           caitlyn          BOTTOM           True   \n1               22              ashe          BOTTOM           True   \n2               51           caitlyn          BOTTOM          False   \n3               67             vayne          BOTTOM          False   \n4               51           caitlyn          BOTTOM           True   \n...            ...               ...             ...            ...   \n1956            92             riven             TOP          False   \n1957            92             riven             TOP           True   \n1958            92             riven             TOP           True   \n1959            92             riven             TOP          False   \n1960           523          aphelios             TOP           True   \n\n      ally_champ1  ally_champ2  enemy_champ1  enemy_champ2  win_rate(%)  \\\n0             777            4           114           154         48.7   \n1              30           91            62            76         51.7   \n2              85          104            36            91         48.7   \n3              17           76           104           234         53.4   \n4              39           28            24            76         48.7   \n...           ...          ...           ...           ...          ...   \n1956          154            8           240           141         49.3   \n1957           64           26            41            11         49.3   \n1958           28          112           875           131         49.3   \n1959          245          238           112            20         49.3   \n1960           78          107           142            56         46.4   \n\n      best_partner  is_countered_by  win_rate>50%  has_synergy  \n0               36               15         False        False  \n1              166              115          True        False  \n2               36               15         False        False  \n3              131               55          True        False  \n4               36               15         False        False  \n...            ...              ...           ...          ...  \n1956            34              126         False        False  \n1957            34              126         False        False  \n1958            34              126         False        False  \n1959            34              126         False        False  \n1960            34               15         False        False  \n\n[1961 rows x 13 columns]",
      "text/html": "<div>\n<style scoped>\n    .dataframe tbody tr th:only-of-type {\n        vertical-align: middle;\n    }\n\n    .dataframe tbody tr th {\n        vertical-align: top;\n    }\n\n    .dataframe thead th {\n        text-align: right;\n    }\n</style>\n<table border=\"1\" class=\"dataframe\">\n  <thead>\n    <tr style=\"text-align: right;\">\n      <th></th>\n      <th>player_champ</th>\n      <th>player_champ_name</th>\n      <th>player_position</th>\n      <th>is_player_win</th>\n      <th>ally_champ1</th>\n      <th>ally_champ2</th>\n      <th>enemy_champ1</th>\n      <th>enemy_champ2</th>\n      <th>win_rate(%)</th>\n      <th>best_partner</th>\n      <th>is_countered_by</th>\n      <th>win_rate&gt;50%</th>\n      <th>has_synergy</th>\n    </tr>\n  </thead>\n  <tbody>\n    <tr>\n      <th>0</th>\n      <td>51</td>\n      <td>caitlyn</td>\n      <td>BOTTOM</td>\n      <td>True</td>\n      <td>777</td>\n      <td>4</td>\n      <td>114</td>\n      <td>154</td>\n      <td>48.7</td>\n      <td>36</td>\n      <td>15</td>\n      <td>False</td>\n      <td>False</td>\n    </tr>\n    <tr>\n      <th>1</th>\n      <td>22</td>\n      <td>ashe</td>\n      <td>BOTTOM</td>\n      <td>True</td>\n      <td>30</td>\n      <td>91</td>\n      <td>62</td>\n      <td>76</td>\n      <td>51.7</td>\n      <td>166</td>\n      <td>115</td>\n      <td>True</td>\n      <td>False</td>\n    </tr>\n    <tr>\n      <th>2</th>\n      <td>51</td>\n      <td>caitlyn</td>\n      <td>BOTTOM</td>\n      <td>False</td>\n      <td>85</td>\n      <td>104</td>\n      <td>36</td>\n      <td>91</td>\n      <td>48.7</td>\n      <td>36</td>\n      <td>15</td>\n      <td>False</td>\n      <td>False</td>\n    </tr>\n    <tr>\n      <th>3</th>\n      <td>67</td>\n      <td>vayne</td>\n      <td>BOTTOM</td>\n      <td>False</td>\n      <td>17</td>\n      <td>76</td>\n      <td>104</td>\n      <td>234</td>\n      <td>53.4</td>\n      <td>131</td>\n      <td>55</td>\n      <td>True</td>\n      <td>False</td>\n    </tr>\n    <tr>\n      <th>4</th>\n      <td>51</td>\n      <td>caitlyn</td>\n      <td>BOTTOM</td>\n      <td>True</td>\n      <td>39</td>\n      <td>28</td>\n      <td>24</td>\n      <td>76</td>\n      <td>48.7</td>\n      <td>36</td>\n      <td>15</td>\n      <td>False</td>\n      <td>False</td>\n    </tr>\n    <tr>\n      <th>...</th>\n      <td>...</td>\n      <td>...</td>\n      <td>...</td>\n      <td>...</td>\n      <td>...</td>\n      <td>...</td>\n      <td>...</td>\n      <td>...</td>\n      <td>...</td>\n      <td>...</td>\n      <td>...</td>\n      <td>...</td>\n      <td>...</td>\n    </tr>\n    <tr>\n      <th>1956</th>\n      <td>92</td>\n      <td>riven</td>\n      <td>TOP</td>\n      <td>False</td>\n      <td>154</td>\n      <td>8</td>\n      <td>240</td>\n      <td>141</td>\n      <td>49.3</td>\n      <td>34</td>\n      <td>126</td>\n      <td>False</td>\n      <td>False</td>\n    </tr>\n    <tr>\n      <th>1957</th>\n      <td>92</td>\n      <td>riven</td>\n      <td>TOP</td>\n      <td>True</td>\n      <td>64</td>\n      <td>26</td>\n      <td>41</td>\n      <td>11</td>\n      <td>49.3</td>\n      <td>34</td>\n      <td>126</td>\n      <td>False</td>\n      <td>False</td>\n    </tr>\n    <tr>\n      <th>1958</th>\n      <td>92</td>\n      <td>riven</td>\n      <td>TOP</td>\n      <td>True</td>\n      <td>28</td>\n      <td>112</td>\n      <td>875</td>\n      <td>131</td>\n      <td>49.3</td>\n      <td>34</td>\n      <td>126</td>\n      <td>False</td>\n      <td>False</td>\n    </tr>\n    <tr>\n      <th>1959</th>\n      <td>92</td>\n      <td>riven</td>\n      <td>TOP</td>\n      <td>False</td>\n      <td>245</td>\n      <td>238</td>\n      <td>112</td>\n      <td>20</td>\n      <td>49.3</td>\n      <td>34</td>\n      <td>126</td>\n      <td>False</td>\n      <td>False</td>\n    </tr>\n    <tr>\n      <th>1960</th>\n      <td>523</td>\n      <td>aphelios</td>\n      <td>TOP</td>\n      <td>True</td>\n      <td>78</td>\n      <td>107</td>\n      <td>142</td>\n      <td>56</td>\n      <td>46.4</td>\n      <td>34</td>\n      <td>15</td>\n      <td>False</td>\n      <td>False</td>\n    </tr>\n  </tbody>\n</table>\n<p>1961 rows × 13 columns</p>\n</div>"
     },
     "execution_count": 33,
     "metadata": {},
     "output_type": "execute_result"
    }
   ],
   "source": [
    "df['has_synergy'] = [(df['best_partner'][index] == df['ally_champ1'][index] or df['best_partner'][index] == df['ally_champ2'][index]) for index in range(df.shape[0])]\n",
    "df"
   ]
  },
  {
   "cell_type": "code",
   "execution_count": 34,
   "metadata": {},
   "outputs": [
    {
     "data": {
      "text/plain": "array([False,  True])"
     },
     "execution_count": 34,
     "metadata": {},
     "output_type": "execute_result"
    }
   ],
   "source": [
    "df['has_synergy'].unique()"
   ]
  },
  {
   "cell_type": "code",
   "execution_count": 35,
   "metadata": {},
   "outputs": [
    {
     "name": "stderr",
     "output_type": "stream",
     "text": [
      "C:\\Users\\tphuo\\AppData\\Local\\Temp/ipykernel_13852/3068533197.py:1: SettingWithCopyWarning: \n",
      "A value is trying to be set on a copy of a slice from a DataFrame.\n",
      "Try using .loc[row_indexer,col_indexer] = value instead\n",
      "\n",
      "See the caveats in the documentation: https://pandas.pydata.org/pandas-docs/stable/user_guide/indexing.html#returning-a-view-versus-a-copy\n",
      "  df['is_countered'] = [(df['is_countered_by'][index] == df['enemy_champ1'][index] or df['is_countered_by'][index] == df['enemy_champ2'][index]) for index in range(df.shape[0])]\n"
     ]
    },
    {
     "data": {
      "text/plain": "      player_champ player_champ_name player_position  is_player_win  \\\n0               51           caitlyn          BOTTOM           True   \n1               22              ashe          BOTTOM           True   \n2               51           caitlyn          BOTTOM          False   \n3               67             vayne          BOTTOM          False   \n4               51           caitlyn          BOTTOM           True   \n...            ...               ...             ...            ...   \n1956            92             riven             TOP          False   \n1957            92             riven             TOP           True   \n1958            92             riven             TOP           True   \n1959            92             riven             TOP          False   \n1960           523          aphelios             TOP           True   \n\n      ally_champ1  ally_champ2  enemy_champ1  enemy_champ2  win_rate(%)  \\\n0             777            4           114           154         48.7   \n1              30           91            62            76         51.7   \n2              85          104            36            91         48.7   \n3              17           76           104           234         53.4   \n4              39           28            24            76         48.7   \n...           ...          ...           ...           ...          ...   \n1956          154            8           240           141         49.3   \n1957           64           26            41            11         49.3   \n1958           28          112           875           131         49.3   \n1959          245          238           112            20         49.3   \n1960           78          107           142            56         46.4   \n\n      best_partner  is_countered_by  win_rate>50%  has_synergy  is_countered  \n0               36               15         False        False         False  \n1              166              115          True        False         False  \n2               36               15         False        False         False  \n3              131               55          True        False         False  \n4               36               15         False        False         False  \n...            ...              ...           ...          ...           ...  \n1956            34              126         False        False         False  \n1957            34              126         False        False         False  \n1958            34              126         False        False         False  \n1959            34              126         False        False         False  \n1960            34               15         False        False         False  \n\n[1961 rows x 14 columns]",
      "text/html": "<div>\n<style scoped>\n    .dataframe tbody tr th:only-of-type {\n        vertical-align: middle;\n    }\n\n    .dataframe tbody tr th {\n        vertical-align: top;\n    }\n\n    .dataframe thead th {\n        text-align: right;\n    }\n</style>\n<table border=\"1\" class=\"dataframe\">\n  <thead>\n    <tr style=\"text-align: right;\">\n      <th></th>\n      <th>player_champ</th>\n      <th>player_champ_name</th>\n      <th>player_position</th>\n      <th>is_player_win</th>\n      <th>ally_champ1</th>\n      <th>ally_champ2</th>\n      <th>enemy_champ1</th>\n      <th>enemy_champ2</th>\n      <th>win_rate(%)</th>\n      <th>best_partner</th>\n      <th>is_countered_by</th>\n      <th>win_rate&gt;50%</th>\n      <th>has_synergy</th>\n      <th>is_countered</th>\n    </tr>\n  </thead>\n  <tbody>\n    <tr>\n      <th>0</th>\n      <td>51</td>\n      <td>caitlyn</td>\n      <td>BOTTOM</td>\n      <td>True</td>\n      <td>777</td>\n      <td>4</td>\n      <td>114</td>\n      <td>154</td>\n      <td>48.7</td>\n      <td>36</td>\n      <td>15</td>\n      <td>False</td>\n      <td>False</td>\n      <td>False</td>\n    </tr>\n    <tr>\n      <th>1</th>\n      <td>22</td>\n      <td>ashe</td>\n      <td>BOTTOM</td>\n      <td>True</td>\n      <td>30</td>\n      <td>91</td>\n      <td>62</td>\n      <td>76</td>\n      <td>51.7</td>\n      <td>166</td>\n      <td>115</td>\n      <td>True</td>\n      <td>False</td>\n      <td>False</td>\n    </tr>\n    <tr>\n      <th>2</th>\n      <td>51</td>\n      <td>caitlyn</td>\n      <td>BOTTOM</td>\n      <td>False</td>\n      <td>85</td>\n      <td>104</td>\n      <td>36</td>\n      <td>91</td>\n      <td>48.7</td>\n      <td>36</td>\n      <td>15</td>\n      <td>False</td>\n      <td>False</td>\n      <td>False</td>\n    </tr>\n    <tr>\n      <th>3</th>\n      <td>67</td>\n      <td>vayne</td>\n      <td>BOTTOM</td>\n      <td>False</td>\n      <td>17</td>\n      <td>76</td>\n      <td>104</td>\n      <td>234</td>\n      <td>53.4</td>\n      <td>131</td>\n      <td>55</td>\n      <td>True</td>\n      <td>False</td>\n      <td>False</td>\n    </tr>\n    <tr>\n      <th>4</th>\n      <td>51</td>\n      <td>caitlyn</td>\n      <td>BOTTOM</td>\n      <td>True</td>\n      <td>39</td>\n      <td>28</td>\n      <td>24</td>\n      <td>76</td>\n      <td>48.7</td>\n      <td>36</td>\n      <td>15</td>\n      <td>False</td>\n      <td>False</td>\n      <td>False</td>\n    </tr>\n    <tr>\n      <th>...</th>\n      <td>...</td>\n      <td>...</td>\n      <td>...</td>\n      <td>...</td>\n      <td>...</td>\n      <td>...</td>\n      <td>...</td>\n      <td>...</td>\n      <td>...</td>\n      <td>...</td>\n      <td>...</td>\n      <td>...</td>\n      <td>...</td>\n      <td>...</td>\n    </tr>\n    <tr>\n      <th>1956</th>\n      <td>92</td>\n      <td>riven</td>\n      <td>TOP</td>\n      <td>False</td>\n      <td>154</td>\n      <td>8</td>\n      <td>240</td>\n      <td>141</td>\n      <td>49.3</td>\n      <td>34</td>\n      <td>126</td>\n      <td>False</td>\n      <td>False</td>\n      <td>False</td>\n    </tr>\n    <tr>\n      <th>1957</th>\n      <td>92</td>\n      <td>riven</td>\n      <td>TOP</td>\n      <td>True</td>\n      <td>64</td>\n      <td>26</td>\n      <td>41</td>\n      <td>11</td>\n      <td>49.3</td>\n      <td>34</td>\n      <td>126</td>\n      <td>False</td>\n      <td>False</td>\n      <td>False</td>\n    </tr>\n    <tr>\n      <th>1958</th>\n      <td>92</td>\n      <td>riven</td>\n      <td>TOP</td>\n      <td>True</td>\n      <td>28</td>\n      <td>112</td>\n      <td>875</td>\n      <td>131</td>\n      <td>49.3</td>\n      <td>34</td>\n      <td>126</td>\n      <td>False</td>\n      <td>False</td>\n      <td>False</td>\n    </tr>\n    <tr>\n      <th>1959</th>\n      <td>92</td>\n      <td>riven</td>\n      <td>TOP</td>\n      <td>False</td>\n      <td>245</td>\n      <td>238</td>\n      <td>112</td>\n      <td>20</td>\n      <td>49.3</td>\n      <td>34</td>\n      <td>126</td>\n      <td>False</td>\n      <td>False</td>\n      <td>False</td>\n    </tr>\n    <tr>\n      <th>1960</th>\n      <td>523</td>\n      <td>aphelios</td>\n      <td>TOP</td>\n      <td>True</td>\n      <td>78</td>\n      <td>107</td>\n      <td>142</td>\n      <td>56</td>\n      <td>46.4</td>\n      <td>34</td>\n      <td>15</td>\n      <td>False</td>\n      <td>False</td>\n      <td>False</td>\n    </tr>\n  </tbody>\n</table>\n<p>1961 rows × 14 columns</p>\n</div>"
     },
     "execution_count": 35,
     "metadata": {},
     "output_type": "execute_result"
    }
   ],
   "source": [
    "df['is_countered'] = [(df['is_countered_by'][index] == df['enemy_champ1'][index] or df['is_countered_by'][index] == df['enemy_champ2'][index]) for index in range(df.shape[0])]\n",
    "df"
   ]
  },
  {
   "cell_type": "code",
   "execution_count": 36,
   "metadata": {},
   "outputs": [
    {
     "data": {
      "text/plain": "array([False,  True])"
     },
     "execution_count": 36,
     "metadata": {},
     "output_type": "execute_result"
    }
   ],
   "source": [
    "df['is_countered'].unique()"
   ]
  },
  {
   "cell_type": "code",
   "execution_count": 37,
   "metadata": {},
   "outputs": [
    {
     "data": {
      "text/plain": "      player_champ  is_player_win  ally_champ1  ally_champ2  enemy_champ1  \\\n0               51           True          777            4           114   \n1               22           True           30           91            62   \n2               51          False           85          104            36   \n3               67          False           17           76           104   \n4               51           True           39           28            24   \n...            ...            ...          ...          ...           ...   \n1956            92          False          154            8           240   \n1957            92           True           64           26            41   \n1958            92           True           28          112           875   \n1959            92          False          245          238           112   \n1960           523           True           78          107           142   \n\n      enemy_champ2  win_rate>50%  has_synergy  is_countered  \n0              154         False        False         False  \n1               76          True        False         False  \n2               91         False        False         False  \n3              234          True        False         False  \n4               76         False        False         False  \n...            ...           ...          ...           ...  \n1956           141         False        False         False  \n1957            11         False        False         False  \n1958           131         False        False         False  \n1959            20         False        False         False  \n1960            56         False        False         False  \n\n[1961 rows x 9 columns]",
      "text/html": "<div>\n<style scoped>\n    .dataframe tbody tr th:only-of-type {\n        vertical-align: middle;\n    }\n\n    .dataframe tbody tr th {\n        vertical-align: top;\n    }\n\n    .dataframe thead th {\n        text-align: right;\n    }\n</style>\n<table border=\"1\" class=\"dataframe\">\n  <thead>\n    <tr style=\"text-align: right;\">\n      <th></th>\n      <th>player_champ</th>\n      <th>is_player_win</th>\n      <th>ally_champ1</th>\n      <th>ally_champ2</th>\n      <th>enemy_champ1</th>\n      <th>enemy_champ2</th>\n      <th>win_rate&gt;50%</th>\n      <th>has_synergy</th>\n      <th>is_countered</th>\n    </tr>\n  </thead>\n  <tbody>\n    <tr>\n      <th>0</th>\n      <td>51</td>\n      <td>True</td>\n      <td>777</td>\n      <td>4</td>\n      <td>114</td>\n      <td>154</td>\n      <td>False</td>\n      <td>False</td>\n      <td>False</td>\n    </tr>\n    <tr>\n      <th>1</th>\n      <td>22</td>\n      <td>True</td>\n      <td>30</td>\n      <td>91</td>\n      <td>62</td>\n      <td>76</td>\n      <td>True</td>\n      <td>False</td>\n      <td>False</td>\n    </tr>\n    <tr>\n      <th>2</th>\n      <td>51</td>\n      <td>False</td>\n      <td>85</td>\n      <td>104</td>\n      <td>36</td>\n      <td>91</td>\n      <td>False</td>\n      <td>False</td>\n      <td>False</td>\n    </tr>\n    <tr>\n      <th>3</th>\n      <td>67</td>\n      <td>False</td>\n      <td>17</td>\n      <td>76</td>\n      <td>104</td>\n      <td>234</td>\n      <td>True</td>\n      <td>False</td>\n      <td>False</td>\n    </tr>\n    <tr>\n      <th>4</th>\n      <td>51</td>\n      <td>True</td>\n      <td>39</td>\n      <td>28</td>\n      <td>24</td>\n      <td>76</td>\n      <td>False</td>\n      <td>False</td>\n      <td>False</td>\n    </tr>\n    <tr>\n      <th>...</th>\n      <td>...</td>\n      <td>...</td>\n      <td>...</td>\n      <td>...</td>\n      <td>...</td>\n      <td>...</td>\n      <td>...</td>\n      <td>...</td>\n      <td>...</td>\n    </tr>\n    <tr>\n      <th>1956</th>\n      <td>92</td>\n      <td>False</td>\n      <td>154</td>\n      <td>8</td>\n      <td>240</td>\n      <td>141</td>\n      <td>False</td>\n      <td>False</td>\n      <td>False</td>\n    </tr>\n    <tr>\n      <th>1957</th>\n      <td>92</td>\n      <td>True</td>\n      <td>64</td>\n      <td>26</td>\n      <td>41</td>\n      <td>11</td>\n      <td>False</td>\n      <td>False</td>\n      <td>False</td>\n    </tr>\n    <tr>\n      <th>1958</th>\n      <td>92</td>\n      <td>True</td>\n      <td>28</td>\n      <td>112</td>\n      <td>875</td>\n      <td>131</td>\n      <td>False</td>\n      <td>False</td>\n      <td>False</td>\n    </tr>\n    <tr>\n      <th>1959</th>\n      <td>92</td>\n      <td>False</td>\n      <td>245</td>\n      <td>238</td>\n      <td>112</td>\n      <td>20</td>\n      <td>False</td>\n      <td>False</td>\n      <td>False</td>\n    </tr>\n    <tr>\n      <th>1960</th>\n      <td>523</td>\n      <td>True</td>\n      <td>78</td>\n      <td>107</td>\n      <td>142</td>\n      <td>56</td>\n      <td>False</td>\n      <td>False</td>\n      <td>False</td>\n    </tr>\n  </tbody>\n</table>\n<p>1961 rows × 9 columns</p>\n</div>"
     },
     "execution_count": 37,
     "metadata": {},
     "output_type": "execute_result"
    }
   ],
   "source": [
    "df = df.drop(columns=['player_champ_name', 'player_position', 'win_rate(%)', 'best_partner', 'is_countered_by'])\n",
    "df"
   ]
  },
  {
   "cell_type": "code",
   "execution_count": 38,
   "metadata": {},
   "outputs": [
    {
     "data": {
      "text/plain": "      player_champ  is_player_win  ally_champ1  ally_champ2  enemy_champ1  \\\n0               51              1          777            4           114   \n1               22              1           30           91            62   \n2               51              0           85          104            36   \n3               67              0           17           76           104   \n4               51              1           39           28            24   \n...            ...            ...          ...          ...           ...   \n1956            92              0          154            8           240   \n1957            92              1           64           26            41   \n1958            92              1           28          112           875   \n1959            92              0          245          238           112   \n1960           523              1           78          107           142   \n\n      enemy_champ2  win_rate>50%  has_synergy  is_countered  \n0              154             0            0             0  \n1               76             1            0             0  \n2               91             0            0             0  \n3              234             1            0             0  \n4               76             0            0             0  \n...            ...           ...          ...           ...  \n1956           141             0            0             0  \n1957            11             0            0             0  \n1958           131             0            0             0  \n1959            20             0            0             0  \n1960            56             0            0             0  \n\n[1961 rows x 9 columns]",
      "text/html": "<div>\n<style scoped>\n    .dataframe tbody tr th:only-of-type {\n        vertical-align: middle;\n    }\n\n    .dataframe tbody tr th {\n        vertical-align: top;\n    }\n\n    .dataframe thead th {\n        text-align: right;\n    }\n</style>\n<table border=\"1\" class=\"dataframe\">\n  <thead>\n    <tr style=\"text-align: right;\">\n      <th></th>\n      <th>player_champ</th>\n      <th>is_player_win</th>\n      <th>ally_champ1</th>\n      <th>ally_champ2</th>\n      <th>enemy_champ1</th>\n      <th>enemy_champ2</th>\n      <th>win_rate&gt;50%</th>\n      <th>has_synergy</th>\n      <th>is_countered</th>\n    </tr>\n  </thead>\n  <tbody>\n    <tr>\n      <th>0</th>\n      <td>51</td>\n      <td>1</td>\n      <td>777</td>\n      <td>4</td>\n      <td>114</td>\n      <td>154</td>\n      <td>0</td>\n      <td>0</td>\n      <td>0</td>\n    </tr>\n    <tr>\n      <th>1</th>\n      <td>22</td>\n      <td>1</td>\n      <td>30</td>\n      <td>91</td>\n      <td>62</td>\n      <td>76</td>\n      <td>1</td>\n      <td>0</td>\n      <td>0</td>\n    </tr>\n    <tr>\n      <th>2</th>\n      <td>51</td>\n      <td>0</td>\n      <td>85</td>\n      <td>104</td>\n      <td>36</td>\n      <td>91</td>\n      <td>0</td>\n      <td>0</td>\n      <td>0</td>\n    </tr>\n    <tr>\n      <th>3</th>\n      <td>67</td>\n      <td>0</td>\n      <td>17</td>\n      <td>76</td>\n      <td>104</td>\n      <td>234</td>\n      <td>1</td>\n      <td>0</td>\n      <td>0</td>\n    </tr>\n    <tr>\n      <th>4</th>\n      <td>51</td>\n      <td>1</td>\n      <td>39</td>\n      <td>28</td>\n      <td>24</td>\n      <td>76</td>\n      <td>0</td>\n      <td>0</td>\n      <td>0</td>\n    </tr>\n    <tr>\n      <th>...</th>\n      <td>...</td>\n      <td>...</td>\n      <td>...</td>\n      <td>...</td>\n      <td>...</td>\n      <td>...</td>\n      <td>...</td>\n      <td>...</td>\n      <td>...</td>\n    </tr>\n    <tr>\n      <th>1956</th>\n      <td>92</td>\n      <td>0</td>\n      <td>154</td>\n      <td>8</td>\n      <td>240</td>\n      <td>141</td>\n      <td>0</td>\n      <td>0</td>\n      <td>0</td>\n    </tr>\n    <tr>\n      <th>1957</th>\n      <td>92</td>\n      <td>1</td>\n      <td>64</td>\n      <td>26</td>\n      <td>41</td>\n      <td>11</td>\n      <td>0</td>\n      <td>0</td>\n      <td>0</td>\n    </tr>\n    <tr>\n      <th>1958</th>\n      <td>92</td>\n      <td>1</td>\n      <td>28</td>\n      <td>112</td>\n      <td>875</td>\n      <td>131</td>\n      <td>0</td>\n      <td>0</td>\n      <td>0</td>\n    </tr>\n    <tr>\n      <th>1959</th>\n      <td>92</td>\n      <td>0</td>\n      <td>245</td>\n      <td>238</td>\n      <td>112</td>\n      <td>20</td>\n      <td>0</td>\n      <td>0</td>\n      <td>0</td>\n    </tr>\n    <tr>\n      <th>1960</th>\n      <td>523</td>\n      <td>1</td>\n      <td>78</td>\n      <td>107</td>\n      <td>142</td>\n      <td>56</td>\n      <td>0</td>\n      <td>0</td>\n      <td>0</td>\n    </tr>\n  </tbody>\n</table>\n<p>1961 rows × 9 columns</p>\n</div>"
     },
     "execution_count": 38,
     "metadata": {},
     "output_type": "execute_result"
    }
   ],
   "source": [
    "df[\"is_player_win\"] = df[\"is_player_win\"].astype(int)\n",
    "df[\"win_rate>50%\"] = df[\"win_rate>50%\"].astype(int)\n",
    "df[\"has_synergy\"] = df[\"has_synergy\"].astype(int)\n",
    "df[\"is_countered\"] = df[\"is_countered\"].astype(int)\n",
    "\n",
    "df"
   ]
  },
  {
   "cell_type": "markdown",
   "metadata": {},
   "source": [
    "# Data Modeling"
   ]
  },
  {
   "cell_type": "code",
   "execution_count": 39,
   "metadata": {},
   "outputs": [
    {
     "data": {
      "text/plain": "      player_champ  is_player_win  ally_champ1  ally_champ2  enemy_champ1  \\\n0               51              1          777            4           114   \n1               22              1           30           91            62   \n2               51              0           85          104            36   \n3               67              0           17           76           104   \n4               51              1           39           28            24   \n...            ...            ...          ...          ...           ...   \n1956            92              0          154            8           240   \n1957            92              1           64           26            41   \n1958            92              1           28          112           875   \n1959            92              0          245          238           112   \n1960           523              1           78          107           142   \n\n      enemy_champ2  win_rate>50%  has_synergy  is_countered  \n0              154             0            0             0  \n1               76             1            0             0  \n2               91             0            0             0  \n3              234             1            0             0  \n4               76             0            0             0  \n...            ...           ...          ...           ...  \n1956           141             0            0             0  \n1957            11             0            0             0  \n1958           131             0            0             0  \n1959            20             0            0             0  \n1960            56             0            0             0  \n\n[1961 rows x 9 columns]",
      "text/html": "<div>\n<style scoped>\n    .dataframe tbody tr th:only-of-type {\n        vertical-align: middle;\n    }\n\n    .dataframe tbody tr th {\n        vertical-align: top;\n    }\n\n    .dataframe thead th {\n        text-align: right;\n    }\n</style>\n<table border=\"1\" class=\"dataframe\">\n  <thead>\n    <tr style=\"text-align: right;\">\n      <th></th>\n      <th>player_champ</th>\n      <th>is_player_win</th>\n      <th>ally_champ1</th>\n      <th>ally_champ2</th>\n      <th>enemy_champ1</th>\n      <th>enemy_champ2</th>\n      <th>win_rate&gt;50%</th>\n      <th>has_synergy</th>\n      <th>is_countered</th>\n    </tr>\n  </thead>\n  <tbody>\n    <tr>\n      <th>0</th>\n      <td>51</td>\n      <td>1</td>\n      <td>777</td>\n      <td>4</td>\n      <td>114</td>\n      <td>154</td>\n      <td>0</td>\n      <td>0</td>\n      <td>0</td>\n    </tr>\n    <tr>\n      <th>1</th>\n      <td>22</td>\n      <td>1</td>\n      <td>30</td>\n      <td>91</td>\n      <td>62</td>\n      <td>76</td>\n      <td>1</td>\n      <td>0</td>\n      <td>0</td>\n    </tr>\n    <tr>\n      <th>2</th>\n      <td>51</td>\n      <td>0</td>\n      <td>85</td>\n      <td>104</td>\n      <td>36</td>\n      <td>91</td>\n      <td>0</td>\n      <td>0</td>\n      <td>0</td>\n    </tr>\n    <tr>\n      <th>3</th>\n      <td>67</td>\n      <td>0</td>\n      <td>17</td>\n      <td>76</td>\n      <td>104</td>\n      <td>234</td>\n      <td>1</td>\n      <td>0</td>\n      <td>0</td>\n    </tr>\n    <tr>\n      <th>4</th>\n      <td>51</td>\n      <td>1</td>\n      <td>39</td>\n      <td>28</td>\n      <td>24</td>\n      <td>76</td>\n      <td>0</td>\n      <td>0</td>\n      <td>0</td>\n    </tr>\n    <tr>\n      <th>...</th>\n      <td>...</td>\n      <td>...</td>\n      <td>...</td>\n      <td>...</td>\n      <td>...</td>\n      <td>...</td>\n      <td>...</td>\n      <td>...</td>\n      <td>...</td>\n    </tr>\n    <tr>\n      <th>1956</th>\n      <td>92</td>\n      <td>0</td>\n      <td>154</td>\n      <td>8</td>\n      <td>240</td>\n      <td>141</td>\n      <td>0</td>\n      <td>0</td>\n      <td>0</td>\n    </tr>\n    <tr>\n      <th>1957</th>\n      <td>92</td>\n      <td>1</td>\n      <td>64</td>\n      <td>26</td>\n      <td>41</td>\n      <td>11</td>\n      <td>0</td>\n      <td>0</td>\n      <td>0</td>\n    </tr>\n    <tr>\n      <th>1958</th>\n      <td>92</td>\n      <td>1</td>\n      <td>28</td>\n      <td>112</td>\n      <td>875</td>\n      <td>131</td>\n      <td>0</td>\n      <td>0</td>\n      <td>0</td>\n    </tr>\n    <tr>\n      <th>1959</th>\n      <td>92</td>\n      <td>0</td>\n      <td>245</td>\n      <td>238</td>\n      <td>112</td>\n      <td>20</td>\n      <td>0</td>\n      <td>0</td>\n      <td>0</td>\n    </tr>\n    <tr>\n      <th>1960</th>\n      <td>523</td>\n      <td>1</td>\n      <td>78</td>\n      <td>107</td>\n      <td>142</td>\n      <td>56</td>\n      <td>0</td>\n      <td>0</td>\n      <td>0</td>\n    </tr>\n  </tbody>\n</table>\n<p>1961 rows × 9 columns</p>\n</div>"
     },
     "execution_count": 39,
     "metadata": {},
     "output_type": "execute_result"
    }
   ],
   "source": [
    "df"
   ]
  },
  {
   "cell_type": "code",
   "execution_count": 40,
   "metadata": {},
   "outputs": [],
   "source": [
    "from sklearn.tree import DecisionTreeClassifier\n",
    "from sklearn.model_selection import cross_val_score\n",
    "import numpy as np\n",
    "import pandas as pd\n",
    "import matplotlib.pyplot as plt"
   ]
  },
  {
   "cell_type": "code",
   "execution_count": 41,
   "metadata": {},
   "outputs": [],
   "source": [
    "X = df.drop(['player_champ'], axis=1)\n",
    "\n",
    "y = df['player_champ']"
   ]
  },
  {
   "cell_type": "code",
   "execution_count": 42,
   "metadata": {},
   "outputs": [
    {
     "data": {
      "text/plain": "(1961, 8)"
     },
     "execution_count": 42,
     "metadata": {},
     "output_type": "execute_result"
    }
   ],
   "source": [
    "X.shape"
   ]
  },
  {
   "cell_type": "code",
   "execution_count": 43,
   "metadata": {},
   "outputs": [
    {
     "data": {
      "text/plain": "(1961,)"
     },
     "execution_count": 43,
     "metadata": {},
     "output_type": "execute_result"
    }
   ],
   "source": [
    "y.shape"
   ]
  },
  {
   "cell_type": "code",
   "execution_count": 44,
   "metadata": {},
   "outputs": [
    {
     "data": {
      "text/plain": "      is_player_win  ally_champ1  ally_champ2  enemy_champ1  enemy_champ2  \\\n0                 1          777            4           114           154   \n1                 1           30           91            62            76   \n2                 0           85          104            36            91   \n3                 0           17           76           104           234   \n4                 1           39           28            24            76   \n...             ...          ...          ...           ...           ...   \n1956              0          154            8           240           141   \n1957              1           64           26            41            11   \n1958              1           28          112           875           131   \n1959              0          245          238           112            20   \n1960              1           78          107           142            56   \n\n      win_rate>50%  has_synergy  is_countered  \n0                0            0             0  \n1                1            0             0  \n2                0            0             0  \n3                1            0             0  \n4                0            0             0  \n...            ...          ...           ...  \n1956             0            0             0  \n1957             0            0             0  \n1958             0            0             0  \n1959             0            0             0  \n1960             0            0             0  \n\n[1961 rows x 8 columns]",
      "text/html": "<div>\n<style scoped>\n    .dataframe tbody tr th:only-of-type {\n        vertical-align: middle;\n    }\n\n    .dataframe tbody tr th {\n        vertical-align: top;\n    }\n\n    .dataframe thead th {\n        text-align: right;\n    }\n</style>\n<table border=\"1\" class=\"dataframe\">\n  <thead>\n    <tr style=\"text-align: right;\">\n      <th></th>\n      <th>is_player_win</th>\n      <th>ally_champ1</th>\n      <th>ally_champ2</th>\n      <th>enemy_champ1</th>\n      <th>enemy_champ2</th>\n      <th>win_rate&gt;50%</th>\n      <th>has_synergy</th>\n      <th>is_countered</th>\n    </tr>\n  </thead>\n  <tbody>\n    <tr>\n      <th>0</th>\n      <td>1</td>\n      <td>777</td>\n      <td>4</td>\n      <td>114</td>\n      <td>154</td>\n      <td>0</td>\n      <td>0</td>\n      <td>0</td>\n    </tr>\n    <tr>\n      <th>1</th>\n      <td>1</td>\n      <td>30</td>\n      <td>91</td>\n      <td>62</td>\n      <td>76</td>\n      <td>1</td>\n      <td>0</td>\n      <td>0</td>\n    </tr>\n    <tr>\n      <th>2</th>\n      <td>0</td>\n      <td>85</td>\n      <td>104</td>\n      <td>36</td>\n      <td>91</td>\n      <td>0</td>\n      <td>0</td>\n      <td>0</td>\n    </tr>\n    <tr>\n      <th>3</th>\n      <td>0</td>\n      <td>17</td>\n      <td>76</td>\n      <td>104</td>\n      <td>234</td>\n      <td>1</td>\n      <td>0</td>\n      <td>0</td>\n    </tr>\n    <tr>\n      <th>4</th>\n      <td>1</td>\n      <td>39</td>\n      <td>28</td>\n      <td>24</td>\n      <td>76</td>\n      <td>0</td>\n      <td>0</td>\n      <td>0</td>\n    </tr>\n    <tr>\n      <th>...</th>\n      <td>...</td>\n      <td>...</td>\n      <td>...</td>\n      <td>...</td>\n      <td>...</td>\n      <td>...</td>\n      <td>...</td>\n      <td>...</td>\n    </tr>\n    <tr>\n      <th>1956</th>\n      <td>0</td>\n      <td>154</td>\n      <td>8</td>\n      <td>240</td>\n      <td>141</td>\n      <td>0</td>\n      <td>0</td>\n      <td>0</td>\n    </tr>\n    <tr>\n      <th>1957</th>\n      <td>1</td>\n      <td>64</td>\n      <td>26</td>\n      <td>41</td>\n      <td>11</td>\n      <td>0</td>\n      <td>0</td>\n      <td>0</td>\n    </tr>\n    <tr>\n      <th>1958</th>\n      <td>1</td>\n      <td>28</td>\n      <td>112</td>\n      <td>875</td>\n      <td>131</td>\n      <td>0</td>\n      <td>0</td>\n      <td>0</td>\n    </tr>\n    <tr>\n      <th>1959</th>\n      <td>0</td>\n      <td>245</td>\n      <td>238</td>\n      <td>112</td>\n      <td>20</td>\n      <td>0</td>\n      <td>0</td>\n      <td>0</td>\n    </tr>\n    <tr>\n      <th>1960</th>\n      <td>1</td>\n      <td>78</td>\n      <td>107</td>\n      <td>142</td>\n      <td>56</td>\n      <td>0</td>\n      <td>0</td>\n      <td>0</td>\n    </tr>\n  </tbody>\n</table>\n<p>1961 rows × 8 columns</p>\n</div>"
     },
     "execution_count": 44,
     "metadata": {},
     "output_type": "execute_result"
    }
   ],
   "source": [
    "X"
   ]
  },
  {
   "cell_type": "code",
   "execution_count": 45,
   "metadata": {},
   "outputs": [],
   "source": [
    "from sklearn.model_selection import train_test_split\n",
    "\n",
    "X_train, X_test, y_train, y_test = train_test_split(X, y, test_size = 0.33, random_state=0)"
   ]
  },
  {
   "cell_type": "code",
   "execution_count": 46,
   "metadata": {},
   "outputs": [
    {
     "data": {
      "text/plain": "DecisionTreeClassifier(max_depth=15)"
     },
     "execution_count": 46,
     "metadata": {},
     "output_type": "execute_result"
    }
   ],
   "source": [
    "tree_model = DecisionTreeClassifier(criterion='gini', max_depth=15)\n",
    "tree_model.fit(X_train, y_train)"
   ]
  },
  {
   "cell_type": "code",
   "execution_count": 47,
   "metadata": {},
   "outputs": [
    {
     "name": "stderr",
     "output_type": "stream",
     "text": [
      "C:\\Users\\tphuo\\AppData\\Local\\Programs\\Python\\Python39\\lib\\site-packages\\sklearn\\model_selection\\_split.py:676: UserWarning: The least populated class in y has only 1 members, which is less than n_splits=10.\n",
      "  warnings.warn(\n"
     ]
    },
    {
     "data": {
      "text/plain": "0.020570205875549388"
     },
     "execution_count": 47,
     "metadata": {},
     "output_type": "execute_result"
    }
   ],
   "source": [
    "cv_scores = cross_val_score(tree_model, X_train, y_train, cv=10, scoring='accuracy').mean()\n",
    "cv_scores"
   ]
  },
  {
   "cell_type": "code",
   "execution_count": 48,
   "metadata": {},
   "outputs": [
    {
     "data": {
      "text/plain": "0.6405178979436406"
     },
     "execution_count": 48,
     "metadata": {},
     "output_type": "execute_result"
    }
   ],
   "source": [
    "tree_model.score(X_train, y_train)"
   ]
  },
  {
   "cell_type": "code",
   "execution_count": 49,
   "metadata": {},
   "outputs": [
    {
     "data": {
      "text/plain": "0.021604938271604937"
     },
     "execution_count": 49,
     "metadata": {},
     "output_type": "execute_result"
    }
   ],
   "source": [
    "tree_model.score(X_test, y_test)"
   ]
  },
  {
   "cell_type": "code",
   "execution_count": 50,
   "metadata": {},
   "outputs": [],
   "source": [
    "data = [\n",
    "    [1, 55, 25, 157, 777, 1, 1, 0]\n",
    "]"
   ]
  },
  {
   "cell_type": "code",
   "execution_count": 51,
   "metadata": {},
   "outputs": [
    {
     "name": "stderr",
     "output_type": "stream",
     "text": [
      "C:\\Users\\tphuo\\AppData\\Local\\Programs\\Python\\Python39\\lib\\site-packages\\sklearn\\base.py:445: UserWarning: X does not have valid feature names, but DecisionTreeClassifier was fitted with feature names\n",
      "  warnings.warn(\n"
     ]
    },
    {
     "data": {
      "text/plain": "30"
     },
     "execution_count": 51,
     "metadata": {},
     "output_type": "execute_result"
    }
   ],
   "source": [
    "prediction = tree_model.predict(data)\n",
    "prediction = int(prediction)\n",
    "prediction"
   ]
  },
  {
   "cell_type": "code",
   "execution_count": 52,
   "metadata": {},
   "outputs": [
    {
     "data": {
      "text/plain": "'karthus'"
     },
     "execution_count": 52,
     "metadata": {},
     "output_type": "execute_result"
    }
   ],
   "source": [
    "champion_id_name_dict.get(prediction)"
   ]
  },
  {
   "cell_type": "code",
   "execution_count": 53,
   "metadata": {},
   "outputs": [
    {
     "data": {
      "text/plain": "GaussianNB()"
     },
     "execution_count": 53,
     "metadata": {},
     "output_type": "execute_result"
    }
   ],
   "source": [
    "from sklearn.naive_bayes import GaussianNB\n",
    "naive_bayes_classifier = GaussianNB()\n",
    "naive_bayes_classifier.fit(X_train, y_train)"
   ]
  },
  {
   "cell_type": "code",
   "execution_count": 54,
   "outputs": [
    {
     "name": "stdout",
     "output_type": "stream",
     "text": [
      "Train accuracy = 7.199999999999999%\n",
      "Test accuracy = 1.2%\n"
     ]
    }
   ],
   "source": [
    "train_accuracy = naive_bayes_classifier.score(X_train, y_train)\n",
    "test_accuracy = naive_bayes_classifier.score(X_test, y_test)\n",
    "\n",
    "print(f'Train accuracy = {round(train_accuracy,3)*100}%')\n",
    "print(f'Test accuracy = {round(test_accuracy,3)*100}%')"
   ],
   "metadata": {
    "collapsed": false,
    "pycharm": {
     "name": "#%%\n"
    }
   }
  },
  {
   "cell_type": "code",
   "execution_count": 55,
   "outputs": [
    {
     "name": "stderr",
     "output_type": "stream",
     "text": [
      "C:\\Users\\tphuo\\AppData\\Local\\Programs\\Python\\Python39\\lib\\site-packages\\sklearn\\base.py:445: UserWarning: X does not have valid feature names, but GaussianNB was fitted with feature names\n",
      "  warnings.warn(\n"
     ]
    },
    {
     "data": {
      "text/plain": "57"
     },
     "execution_count": 55,
     "metadata": {},
     "output_type": "execute_result"
    }
   ],
   "source": [
    "naive_bayes_prediction = naive_bayes_classifier.predict(data)\n",
    "naive_bayes_prediction = int(naive_bayes_prediction)\n",
    "naive_bayes_prediction"
   ],
   "metadata": {
    "collapsed": false,
    "pycharm": {
     "name": "#%%\n"
    }
   }
  },
  {
   "cell_type": "code",
   "execution_count": 56,
   "outputs": [
    {
     "data": {
      "text/plain": "'maokai'"
     },
     "execution_count": 56,
     "metadata": {},
     "output_type": "execute_result"
    }
   ],
   "source": [
    "champion_id_name_dict.get(naive_bayes_prediction)"
   ],
   "metadata": {
    "collapsed": false,
    "pycharm": {
     "name": "#%%\n"
    }
   }
  },
  {
   "cell_type": "code",
   "execution_count": 63,
   "outputs": [
    {
     "name": "stdout",
     "output_type": "stream",
     "text": [
      "Train accuracy = 22.1%\n",
      "Train accuracy = 1.4000000000000001%\n"
     ]
    }
   ],
   "source": [
    "from sklearn.neighbors import KNeighborsClassifier\n",
    "knn_classifier = KNeighborsClassifier(n_neighbors=5)\n",
    "knn_classifier.fit(X_train, y_train)\n",
    "\n",
    "train_accuracy = knn_classifier.score(X_train, y_train)\n",
    "print(f'Train accuracy = {round(train_accuracy, 3)*100}%')\n",
    "\n",
    "test_accuracy = knn_classifier.score(X_test, y_test)\n",
    "print(f'Train accuracy = {round(test_accuracy, 3)*100}%')"
   ],
   "metadata": {
    "collapsed": false,
    "pycharm": {
     "name": "#%%\n"
    }
   }
  },
  {
   "cell_type": "code",
   "execution_count": 64,
   "outputs": [
    {
     "name": "stderr",
     "output_type": "stream",
     "text": [
      "C:\\Users\\tphuo\\AppData\\Local\\Programs\\Python\\Python39\\lib\\site-packages\\sklearn\\base.py:445: UserWarning: X does not have valid feature names, but KNeighborsClassifier was fitted with feature names\n",
      "  warnings.warn(\n"
     ]
    },
    {
     "data": {
      "text/plain": "134"
     },
     "execution_count": 64,
     "metadata": {},
     "output_type": "execute_result"
    }
   ],
   "source": [
    "knn_prediction = knn_classifier.predict(data)\n",
    "knn_prediction = int(knn_prediction)\n",
    "knn_prediction"
   ],
   "metadata": {
    "collapsed": false,
    "pycharm": {
     "name": "#%%\n"
    }
   }
  },
  {
   "cell_type": "code",
   "execution_count": 65,
   "outputs": [
    {
     "data": {
      "text/plain": "'syndra'"
     },
     "execution_count": 65,
     "metadata": {},
     "output_type": "execute_result"
    }
   ],
   "source": [
    "champion_id_name_dict.get(knn_prediction)"
   ],
   "metadata": {
    "collapsed": false,
    "pycharm": {
     "name": "#%%\n"
    }
   }
  },
  {
   "cell_type": "markdown",
   "source": [
    "### Data Exploration"
   ],
   "metadata": {
    "collapsed": false
   }
  },
  {
   "cell_type": "code",
   "execution_count": 66,
   "outputs": [
    {
     "data": {
      "text/plain": "      player_champ  is_player_win  ally_champ1  ally_champ2  enemy_champ1  \\\n0               51              1          777            4           114   \n1               22              1           30           91            62   \n2               51              0           85          104            36   \n3               67              0           17           76           104   \n4               51              1           39           28            24   \n...            ...            ...          ...          ...           ...   \n1956            92              0          154            8           240   \n1957            92              1           64           26            41   \n1958            92              1           28          112           875   \n1959            92              0          245          238           112   \n1960           523              1           78          107           142   \n\n      enemy_champ2  win_rate>50%  has_synergy  is_countered  \n0              154             0            0             0  \n1               76             1            0             0  \n2               91             0            0             0  \n3              234             1            0             0  \n4               76             0            0             0  \n...            ...           ...          ...           ...  \n1956           141             0            0             0  \n1957            11             0            0             0  \n1958           131             0            0             0  \n1959            20             0            0             0  \n1960            56             0            0             0  \n\n[1961 rows x 9 columns]",
      "text/html": "<div>\n<style scoped>\n    .dataframe tbody tr th:only-of-type {\n        vertical-align: middle;\n    }\n\n    .dataframe tbody tr th {\n        vertical-align: top;\n    }\n\n    .dataframe thead th {\n        text-align: right;\n    }\n</style>\n<table border=\"1\" class=\"dataframe\">\n  <thead>\n    <tr style=\"text-align: right;\">\n      <th></th>\n      <th>player_champ</th>\n      <th>is_player_win</th>\n      <th>ally_champ1</th>\n      <th>ally_champ2</th>\n      <th>enemy_champ1</th>\n      <th>enemy_champ2</th>\n      <th>win_rate&gt;50%</th>\n      <th>has_synergy</th>\n      <th>is_countered</th>\n    </tr>\n  </thead>\n  <tbody>\n    <tr>\n      <th>0</th>\n      <td>51</td>\n      <td>1</td>\n      <td>777</td>\n      <td>4</td>\n      <td>114</td>\n      <td>154</td>\n      <td>0</td>\n      <td>0</td>\n      <td>0</td>\n    </tr>\n    <tr>\n      <th>1</th>\n      <td>22</td>\n      <td>1</td>\n      <td>30</td>\n      <td>91</td>\n      <td>62</td>\n      <td>76</td>\n      <td>1</td>\n      <td>0</td>\n      <td>0</td>\n    </tr>\n    <tr>\n      <th>2</th>\n      <td>51</td>\n      <td>0</td>\n      <td>85</td>\n      <td>104</td>\n      <td>36</td>\n      <td>91</td>\n      <td>0</td>\n      <td>0</td>\n      <td>0</td>\n    </tr>\n    <tr>\n      <th>3</th>\n      <td>67</td>\n      <td>0</td>\n      <td>17</td>\n      <td>76</td>\n      <td>104</td>\n      <td>234</td>\n      <td>1</td>\n      <td>0</td>\n      <td>0</td>\n    </tr>\n    <tr>\n      <th>4</th>\n      <td>51</td>\n      <td>1</td>\n      <td>39</td>\n      <td>28</td>\n      <td>24</td>\n      <td>76</td>\n      <td>0</td>\n      <td>0</td>\n      <td>0</td>\n    </tr>\n    <tr>\n      <th>...</th>\n      <td>...</td>\n      <td>...</td>\n      <td>...</td>\n      <td>...</td>\n      <td>...</td>\n      <td>...</td>\n      <td>...</td>\n      <td>...</td>\n      <td>...</td>\n    </tr>\n    <tr>\n      <th>1956</th>\n      <td>92</td>\n      <td>0</td>\n      <td>154</td>\n      <td>8</td>\n      <td>240</td>\n      <td>141</td>\n      <td>0</td>\n      <td>0</td>\n      <td>0</td>\n    </tr>\n    <tr>\n      <th>1957</th>\n      <td>92</td>\n      <td>1</td>\n      <td>64</td>\n      <td>26</td>\n      <td>41</td>\n      <td>11</td>\n      <td>0</td>\n      <td>0</td>\n      <td>0</td>\n    </tr>\n    <tr>\n      <th>1958</th>\n      <td>92</td>\n      <td>1</td>\n      <td>28</td>\n      <td>112</td>\n      <td>875</td>\n      <td>131</td>\n      <td>0</td>\n      <td>0</td>\n      <td>0</td>\n    </tr>\n    <tr>\n      <th>1959</th>\n      <td>92</td>\n      <td>0</td>\n      <td>245</td>\n      <td>238</td>\n      <td>112</td>\n      <td>20</td>\n      <td>0</td>\n      <td>0</td>\n      <td>0</td>\n    </tr>\n    <tr>\n      <th>1960</th>\n      <td>523</td>\n      <td>1</td>\n      <td>78</td>\n      <td>107</td>\n      <td>142</td>\n      <td>56</td>\n      <td>0</td>\n      <td>0</td>\n      <td>0</td>\n    </tr>\n  </tbody>\n</table>\n<p>1961 rows × 9 columns</p>\n</div>"
     },
     "execution_count": 66,
     "metadata": {},
     "output_type": "execute_result"
    }
   ],
   "source": [
    "df"
   ],
   "metadata": {
    "collapsed": false,
    "pycharm": {
     "name": "#%%\n"
    }
   }
  },
  {
   "cell_type": "code",
   "execution_count": 67,
   "outputs": [
    {
     "data": {
      "text/plain": "     my_champion  win_rate(%)  best_partner  synergy(%)  worst_enemy_for  \\\n0            266         48.9           107         6.5               41   \n1            103         50.5            54         8.1                7   \n2             84         47.3            32         7.2              887   \n3            166         52.5            32         9.6              142   \n4             12         49.9            48         9.6              412   \n..           ...          ...           ...         ...              ...   \n152          238         49.6            37         7.9              268   \n153          115         51.4            37        12.9              236   \n154           26         52.1            34         8.8               50   \n155          142         46.8            59         7.7                7   \n156          143         50.7           254        10.9               40   \n\n     counter(%)  is_countered_by  countered(%)  \n0           6.8              887           5.7  \n1           4.8               69           5.4  \n2           6.5               98           7.7  \n3           9.2              223           7.0  \n4           6.0              432           5.0  \n..          ...              ...           ...  \n152         7.1               67           5.6  \n153         5.8              117           5.8  \n154         7.4              166           8.6  \n155         6.2               37           8.9  \n156         6.0               37           6.5  \n\n[157 rows x 8 columns]",
      "text/html": "<div>\n<style scoped>\n    .dataframe tbody tr th:only-of-type {\n        vertical-align: middle;\n    }\n\n    .dataframe tbody tr th {\n        vertical-align: top;\n    }\n\n    .dataframe thead th {\n        text-align: right;\n    }\n</style>\n<table border=\"1\" class=\"dataframe\">\n  <thead>\n    <tr style=\"text-align: right;\">\n      <th></th>\n      <th>my_champion</th>\n      <th>win_rate(%)</th>\n      <th>best_partner</th>\n      <th>synergy(%)</th>\n      <th>worst_enemy_for</th>\n      <th>counter(%)</th>\n      <th>is_countered_by</th>\n      <th>countered(%)</th>\n    </tr>\n  </thead>\n  <tbody>\n    <tr>\n      <th>0</th>\n      <td>266</td>\n      <td>48.9</td>\n      <td>107</td>\n      <td>6.5</td>\n      <td>41</td>\n      <td>6.8</td>\n      <td>887</td>\n      <td>5.7</td>\n    </tr>\n    <tr>\n      <th>1</th>\n      <td>103</td>\n      <td>50.5</td>\n      <td>54</td>\n      <td>8.1</td>\n      <td>7</td>\n      <td>4.8</td>\n      <td>69</td>\n      <td>5.4</td>\n    </tr>\n    <tr>\n      <th>2</th>\n      <td>84</td>\n      <td>47.3</td>\n      <td>32</td>\n      <td>7.2</td>\n      <td>887</td>\n      <td>6.5</td>\n      <td>98</td>\n      <td>7.7</td>\n    </tr>\n    <tr>\n      <th>3</th>\n      <td>166</td>\n      <td>52.5</td>\n      <td>32</td>\n      <td>9.6</td>\n      <td>142</td>\n      <td>9.2</td>\n      <td>223</td>\n      <td>7.0</td>\n    </tr>\n    <tr>\n      <th>4</th>\n      <td>12</td>\n      <td>49.9</td>\n      <td>48</td>\n      <td>9.6</td>\n      <td>412</td>\n      <td>6.0</td>\n      <td>432</td>\n      <td>5.0</td>\n    </tr>\n    <tr>\n      <th>...</th>\n      <td>...</td>\n      <td>...</td>\n      <td>...</td>\n      <td>...</td>\n      <td>...</td>\n      <td>...</td>\n      <td>...</td>\n      <td>...</td>\n    </tr>\n    <tr>\n      <th>152</th>\n      <td>238</td>\n      <td>49.6</td>\n      <td>37</td>\n      <td>7.9</td>\n      <td>268</td>\n      <td>7.1</td>\n      <td>67</td>\n      <td>5.6</td>\n    </tr>\n    <tr>\n      <th>153</th>\n      <td>115</td>\n      <td>51.4</td>\n      <td>37</td>\n      <td>12.9</td>\n      <td>236</td>\n      <td>5.8</td>\n      <td>117</td>\n      <td>5.8</td>\n    </tr>\n    <tr>\n      <th>154</th>\n      <td>26</td>\n      <td>52.1</td>\n      <td>34</td>\n      <td>8.8</td>\n      <td>50</td>\n      <td>7.4</td>\n      <td>166</td>\n      <td>8.6</td>\n    </tr>\n    <tr>\n      <th>155</th>\n      <td>142</td>\n      <td>46.8</td>\n      <td>59</td>\n      <td>7.7</td>\n      <td>7</td>\n      <td>6.2</td>\n      <td>37</td>\n      <td>8.9</td>\n    </tr>\n    <tr>\n      <th>156</th>\n      <td>143</td>\n      <td>50.7</td>\n      <td>254</td>\n      <td>10.9</td>\n      <td>40</td>\n      <td>6.0</td>\n      <td>37</td>\n      <td>6.5</td>\n    </tr>\n  </tbody>\n</table>\n<p>157 rows × 8 columns</p>\n</div>"
     },
     "execution_count": 67,
     "metadata": {},
     "output_type": "execute_result"
    }
   ],
   "source": [
    "synergy_counters_df"
   ],
   "metadata": {
    "collapsed": false,
    "pycharm": {
     "name": "#%%\n"
    }
   }
  },
  {
   "cell_type": "code",
   "execution_count": null,
   "outputs": [],
   "source": [],
   "metadata": {
    "collapsed": false,
    "pycharm": {
     "name": "#%%\n"
    }
   }
  }
 ],
 "metadata": {
  "kernelspec": {
   "display_name": "Python 3 (ipykernel)",
   "language": "python",
   "name": "python3"
  },
  "language_info": {
   "codemirror_mode": {
    "name": "ipython",
    "version": 3
   },
   "file_extension": ".py",
   "mimetype": "text/x-python",
   "name": "python",
   "nbconvert_exporter": "python",
   "pygments_lexer": "ipython3",
   "version": "3.9.8"
  }
 },
 "nbformat": 4,
 "nbformat_minor": 1
}